{
 "cells": [
  {
   "cell_type": "markdown",
   "id": "cca763b7-274c-49a3-8fc2-ad84179b4239",
   "metadata": {},
   "source": [
    "# Customer Lifetime Value\n",
    "Project for analyzing customers worth in a company. This helps for customer segmentation - where we can tune different business strategies for different customer groups. \n",
    "\n",
    "Goals: \n",
    "1. To understand which customers to focus on.\n",
    "2. Predict how much customers will likely spend in the future.\n",
    "3. Predict the probabilty of customers making a purchase in the future."
   ]
  },
  {
   "cell_type": "markdown",
   "id": "76c93423-5c80-4d6d-81d3-30cba431a81f",
   "metadata": {},
   "source": [
    "## 0. About the dataset\n",
    "The dataset is based on cdnow sales of new customers who signed-on or made their first purchases during 1997-01-01 to 1997-03-25. "
   ]
  },
  {
   "cell_type": "markdown",
   "id": "3cd796fa-5849-462a-8bc8-95926db9bd9c",
   "metadata": {},
   "source": [
    "## 1. Data Preperation\n",
    "Importing the dataset to understand it and clean it if needed."
   ]
  },
  {
   "cell_type": "code",
   "execution_count": 1,
   "id": "9cf96b47-ca6d-4086-9d03-fb04054a7c94",
   "metadata": {},
   "outputs": [],
   "source": [
    "# importing the libraries\n",
    "import numpy as np\n",
    "import pandas as pd\n",
    "import joblib\n",
    "\n",
    "# graphing libraries\n",
    "import matplotlib.pyplot as plt\n",
    "from matplotlib.dates import DateFormatter, MonthLocator  # for formatting axes based on dates\n",
    "import seaborn as sns\n",
    "\n",
    "# time calculations\n",
    "from datetime import timedelta\n",
    "import time\n",
    "\n",
    "# machine learning libraries\n",
    "from xgboost import XGBClassifier, XGBRegressor\n",
    "from sklearn.model_selection import GridSearchCV, train_test_split\n",
    "\n",
    "# machine learning model evaluations\n",
    "from sklearn.metrics import mean_absolute_error, mean_squared_error    # for regression model evaluation\n",
    "from sklearn.metrics import accuracy_score, precision_score, recall_score, f1_score, roc_auc_score, confusion_matrix    # classification model eval"
   ]
  },
  {
   "cell_type": "code",
   "execution_count": 2,
   "id": "e075f3fe-81c5-4639-93bd-f6febfef5901",
   "metadata": {},
   "outputs": [
    {
     "name": "stderr",
     "output_type": "stream",
     "text": [
      "<>:3: SyntaxWarning: invalid escape sequence '\\s'\n",
      "<>:3: SyntaxWarning: invalid escape sequence '\\s'\n",
      "/tmp/ipykernel_12119/1836189230.py:3: SyntaxWarning: invalid escape sequence '\\s'\n",
      "  df = pd.read_table('dataset/CDNOW_master.txt', sep='\\s+', names=column_names)\n"
     ]
    }
   ],
   "source": [
    "# importing the dataset\n",
    "column_names = [\"customer_id\", \"date\", \"quantity\", \"price\"]\n",
    "df = pd.read_table('dataset/CDNOW_master.txt', sep='\\s+', names=column_names)"
   ]
  },
  {
   "cell_type": "code",
   "execution_count": 3,
   "id": "7f5a9b91-5bdd-4fea-97d5-0a6dad3cffa1",
   "metadata": {},
   "outputs": [
    {
     "data": {
      "text/html": [
       "<div>\n",
       "<style scoped>\n",
       "    .dataframe tbody tr th:only-of-type {\n",
       "        vertical-align: middle;\n",
       "    }\n",
       "\n",
       "    .dataframe tbody tr th {\n",
       "        vertical-align: top;\n",
       "    }\n",
       "\n",
       "    .dataframe thead th {\n",
       "        text-align: right;\n",
       "    }\n",
       "</style>\n",
       "<table border=\"1\" class=\"dataframe\">\n",
       "  <thead>\n",
       "    <tr style=\"text-align: right;\">\n",
       "      <th></th>\n",
       "      <th>customer_id</th>\n",
       "      <th>date</th>\n",
       "      <th>quantity</th>\n",
       "      <th>price</th>\n",
       "    </tr>\n",
       "  </thead>\n",
       "  <tbody>\n",
       "    <tr>\n",
       "      <th>0</th>\n",
       "      <td>1</td>\n",
       "      <td>19970101</td>\n",
       "      <td>1</td>\n",
       "      <td>11.77</td>\n",
       "    </tr>\n",
       "    <tr>\n",
       "      <th>1</th>\n",
       "      <td>2</td>\n",
       "      <td>19970112</td>\n",
       "      <td>1</td>\n",
       "      <td>12.00</td>\n",
       "    </tr>\n",
       "    <tr>\n",
       "      <th>2</th>\n",
       "      <td>2</td>\n",
       "      <td>19970112</td>\n",
       "      <td>5</td>\n",
       "      <td>77.00</td>\n",
       "    </tr>\n",
       "    <tr>\n",
       "      <th>3</th>\n",
       "      <td>3</td>\n",
       "      <td>19970102</td>\n",
       "      <td>2</td>\n",
       "      <td>20.76</td>\n",
       "    </tr>\n",
       "    <tr>\n",
       "      <th>4</th>\n",
       "      <td>3</td>\n",
       "      <td>19970330</td>\n",
       "      <td>2</td>\n",
       "      <td>20.76</td>\n",
       "    </tr>\n",
       "  </tbody>\n",
       "</table>\n",
       "</div>"
      ],
      "text/plain": [
       "   customer_id      date  quantity  price\n",
       "0            1  19970101         1  11.77\n",
       "1            2  19970112         1  12.00\n",
       "2            2  19970112         5  77.00\n",
       "3            3  19970102         2  20.76\n",
       "4            3  19970330         2  20.76"
      ]
     },
     "execution_count": 3,
     "metadata": {},
     "output_type": "execute_result"
    }
   ],
   "source": [
    "df.head()"
   ]
  },
  {
   "cell_type": "code",
   "execution_count": 4,
   "id": "8a374c02-7207-42d5-8215-7bba4260c826",
   "metadata": {},
   "outputs": [
    {
     "name": "stdout",
     "output_type": "stream",
     "text": [
      "<class 'pandas.core.frame.DataFrame'>\n",
      "RangeIndex: 69659 entries, 0 to 69658\n",
      "Data columns (total 4 columns):\n",
      " #   Column       Non-Null Count  Dtype  \n",
      "---  ------       --------------  -----  \n",
      " 0   customer_id  69659 non-null  int64  \n",
      " 1   date         69659 non-null  int64  \n",
      " 2   quantity     69659 non-null  int64  \n",
      " 3   price        69659 non-null  float64\n",
      "dtypes: float64(1), int64(3)\n",
      "memory usage: 2.1 MB\n"
     ]
    }
   ],
   "source": [
    "df.info()"
   ]
  },
  {
   "cell_type": "code",
   "execution_count": 5,
   "id": "6eba7800-649a-4e65-ab04-57db98f4aae7",
   "metadata": {},
   "outputs": [],
   "source": [
    "# converting date column into datetime64\n",
    "df['date'] = pd.to_datetime(df['date'], format='%Y%m%d')"
   ]
  },
  {
   "cell_type": "code",
   "execution_count": 6,
   "id": "af93e97c-e6c3-4028-98a2-f7ac77415df2",
   "metadata": {},
   "outputs": [
    {
     "name": "stdout",
     "output_type": "stream",
     "text": [
      "<class 'pandas.core.frame.DataFrame'>\n",
      "RangeIndex: 69659 entries, 0 to 69658\n",
      "Data columns (total 4 columns):\n",
      " #   Column       Non-Null Count  Dtype         \n",
      "---  ------       --------------  -----         \n",
      " 0   customer_id  69659 non-null  int64         \n",
      " 1   date         69659 non-null  datetime64[ns]\n",
      " 2   quantity     69659 non-null  int64         \n",
      " 3   price        69659 non-null  float64       \n",
      "dtypes: datetime64[ns](1), float64(1), int64(2)\n",
      "memory usage: 2.1 MB\n"
     ]
    }
   ],
   "source": [
    "df.info()"
   ]
  },
  {
   "cell_type": "code",
   "execution_count": 7,
   "id": "aecffdcf-87c8-45b3-ac0e-4cb38c00242d",
   "metadata": {},
   "outputs": [
    {
     "data": {
      "text/html": [
       "<div>\n",
       "<style scoped>\n",
       "    .dataframe tbody tr th:only-of-type {\n",
       "        vertical-align: middle;\n",
       "    }\n",
       "\n",
       "    .dataframe tbody tr th {\n",
       "        vertical-align: top;\n",
       "    }\n",
       "\n",
       "    .dataframe thead th {\n",
       "        text-align: right;\n",
       "    }\n",
       "</style>\n",
       "<table border=\"1\" class=\"dataframe\">\n",
       "  <thead>\n",
       "    <tr style=\"text-align: right;\">\n",
       "      <th></th>\n",
       "      <th>customer_id</th>\n",
       "      <th>date</th>\n",
       "      <th>quantity</th>\n",
       "      <th>price</th>\n",
       "    </tr>\n",
       "  </thead>\n",
       "  <tbody>\n",
       "    <tr>\n",
       "      <th>0</th>\n",
       "      <td>1</td>\n",
       "      <td>1997-01-01</td>\n",
       "      <td>1</td>\n",
       "      <td>11.77</td>\n",
       "    </tr>\n",
       "    <tr>\n",
       "      <th>1</th>\n",
       "      <td>2</td>\n",
       "      <td>1997-01-12</td>\n",
       "      <td>1</td>\n",
       "      <td>12.00</td>\n",
       "    </tr>\n",
       "    <tr>\n",
       "      <th>2</th>\n",
       "      <td>2</td>\n",
       "      <td>1997-01-12</td>\n",
       "      <td>5</td>\n",
       "      <td>77.00</td>\n",
       "    </tr>\n",
       "    <tr>\n",
       "      <th>3</th>\n",
       "      <td>3</td>\n",
       "      <td>1997-01-02</td>\n",
       "      <td>2</td>\n",
       "      <td>20.76</td>\n",
       "    </tr>\n",
       "    <tr>\n",
       "      <th>4</th>\n",
       "      <td>3</td>\n",
       "      <td>1997-03-30</td>\n",
       "      <td>2</td>\n",
       "      <td>20.76</td>\n",
       "    </tr>\n",
       "  </tbody>\n",
       "</table>\n",
       "</div>"
      ],
      "text/plain": [
       "   customer_id       date  quantity  price\n",
       "0            1 1997-01-01         1  11.77\n",
       "1            2 1997-01-12         1  12.00\n",
       "2            2 1997-01-12         5  77.00\n",
       "3            3 1997-01-02         2  20.76\n",
       "4            3 1997-03-30         2  20.76"
      ]
     },
     "execution_count": 7,
     "metadata": {},
     "output_type": "execute_result"
    }
   ],
   "source": [
    "df.head()"
   ]
  },
  {
   "cell_type": "code",
   "execution_count": 8,
   "id": "c92ae994-dafe-4d41-bb1d-a41ea3b5b194",
   "metadata": {},
   "outputs": [
    {
     "data": {
      "text/plain": [
       "(470, 4)"
      ]
     },
     "execution_count": 8,
     "metadata": {},
     "output_type": "execute_result"
    }
   ],
   "source": [
    "# verifying for duplicates\n",
    "df[df.duplicated(keep=False)].shape"
   ]
  },
  {
   "cell_type": "code",
   "execution_count": 9,
   "id": "80927d11-c9c3-48fa-8ee1-c4bedb8b0124",
   "metadata": {},
   "outputs": [
    {
     "data": {
      "text/html": [
       "<div>\n",
       "<style scoped>\n",
       "    .dataframe tbody tr th:only-of-type {\n",
       "        vertical-align: middle;\n",
       "    }\n",
       "\n",
       "    .dataframe tbody tr th {\n",
       "        vertical-align: top;\n",
       "    }\n",
       "\n",
       "    .dataframe thead th {\n",
       "        text-align: right;\n",
       "    }\n",
       "</style>\n",
       "<table border=\"1\" class=\"dataframe\">\n",
       "  <thead>\n",
       "    <tr style=\"text-align: right;\">\n",
       "      <th></th>\n",
       "      <th>customer_id</th>\n",
       "      <th>date</th>\n",
       "      <th>quantity</th>\n",
       "      <th>price</th>\n",
       "    </tr>\n",
       "  </thead>\n",
       "  <tbody>\n",
       "    <tr>\n",
       "      <th>1380</th>\n",
       "      <td>398</td>\n",
       "      <td>1998-05-18</td>\n",
       "      <td>1</td>\n",
       "      <td>12.99</td>\n",
       "    </tr>\n",
       "    <tr>\n",
       "      <th>1381</th>\n",
       "      <td>398</td>\n",
       "      <td>1998-05-18</td>\n",
       "      <td>1</td>\n",
       "      <td>12.99</td>\n",
       "    </tr>\n",
       "    <tr>\n",
       "      <th>1711</th>\n",
       "      <td>499</td>\n",
       "      <td>1997-10-29</td>\n",
       "      <td>1</td>\n",
       "      <td>9.49</td>\n",
       "    </tr>\n",
       "    <tr>\n",
       "      <th>1712</th>\n",
       "      <td>499</td>\n",
       "      <td>1997-10-29</td>\n",
       "      <td>1</td>\n",
       "      <td>9.49</td>\n",
       "    </tr>\n",
       "    <tr>\n",
       "      <th>1713</th>\n",
       "      <td>499</td>\n",
       "      <td>1997-10-29</td>\n",
       "      <td>1</td>\n",
       "      <td>9.49</td>\n",
       "    </tr>\n",
       "    <tr>\n",
       "      <th>1715</th>\n",
       "      <td>499</td>\n",
       "      <td>1997-10-29</td>\n",
       "      <td>1</td>\n",
       "      <td>9.49</td>\n",
       "    </tr>\n",
       "    <tr>\n",
       "      <th>1717</th>\n",
       "      <td>499</td>\n",
       "      <td>1997-10-29</td>\n",
       "      <td>1</td>\n",
       "      <td>11.49</td>\n",
       "    </tr>\n",
       "    <tr>\n",
       "      <th>1718</th>\n",
       "      <td>499</td>\n",
       "      <td>1997-10-29</td>\n",
       "      <td>1</td>\n",
       "      <td>11.49</td>\n",
       "    </tr>\n",
       "    <tr>\n",
       "      <th>1720</th>\n",
       "      <td>499</td>\n",
       "      <td>1997-10-29</td>\n",
       "      <td>1</td>\n",
       "      <td>19.99</td>\n",
       "    </tr>\n",
       "    <tr>\n",
       "      <th>1721</th>\n",
       "      <td>499</td>\n",
       "      <td>1997-10-29</td>\n",
       "      <td>1</td>\n",
       "      <td>9.99</td>\n",
       "    </tr>\n",
       "  </tbody>\n",
       "</table>\n",
       "</div>"
      ],
      "text/plain": [
       "      customer_id       date  quantity  price\n",
       "1380          398 1998-05-18         1  12.99\n",
       "1381          398 1998-05-18         1  12.99\n",
       "1711          499 1997-10-29         1   9.49\n",
       "1712          499 1997-10-29         1   9.49\n",
       "1713          499 1997-10-29         1   9.49\n",
       "1715          499 1997-10-29         1   9.49\n",
       "1717          499 1997-10-29         1  11.49\n",
       "1718          499 1997-10-29         1  11.49\n",
       "1720          499 1997-10-29         1  19.99\n",
       "1721          499 1997-10-29         1   9.99"
      ]
     },
     "execution_count": 9,
     "metadata": {},
     "output_type": "execute_result"
    }
   ],
   "source": [
    "dups = df[df.duplicated(keep=False)]\n",
    "dups.sort_values('customer_id').head(10)"
   ]
  },
  {
   "cell_type": "markdown",
   "id": "c2f358ab-b5b9-4a60-b98a-9b28653746d0",
   "metadata": {},
   "source": [
    "Visually inspecting we can see that there are *some* duplicated rows - but these are justified - customers' purchases can be tallied individually per item.\n",
    "\n",
    "This is valied since the dataset is based on cdnow, a cd retail service during the dotcom bubble. The \"duplicate\" purchases could very well be \"1 CD of similar price, each listed in its own row\""
   ]
  },
  {
   "cell_type": "markdown",
   "id": "7751ce7b-c3ba-47f2-b36d-7dbdb59a98fe",
   "metadata": {},
   "source": [
    "No cleaning needed. Good to go. May do further transformations later as needed during exploratory data analysis."
   ]
  },
  {
   "cell_type": "markdown",
   "id": "505047f4-5ae8-4a65-a286-fd0e56ab3b31",
   "metadata": {},
   "source": [
    "## 2. Exploratory Data Analysis\n",
    "Taking a look at the dataset"
   ]
  },
  {
   "cell_type": "markdown",
   "id": "c854379b-ff8e-4feb-8216-fb0b6ce45669",
   "metadata": {},
   "source": [
    "### 2.1 Overall Analysis\n",
    "Taking a look at the overall dataset"
   ]
  },
  {
   "cell_type": "code",
   "execution_count": 10,
   "id": "0d43489e-37e3-4231-abab-4e5aff3dbdb5",
   "metadata": {},
   "outputs": [
    {
     "data": {
      "text/html": [
       "<div>\n",
       "<style scoped>\n",
       "    .dataframe tbody tr th:only-of-type {\n",
       "        vertical-align: middle;\n",
       "    }\n",
       "\n",
       "    .dataframe tbody tr th {\n",
       "        vertical-align: top;\n",
       "    }\n",
       "\n",
       "    .dataframe thead th {\n",
       "        text-align: right;\n",
       "    }\n",
       "</style>\n",
       "<table border=\"1\" class=\"dataframe\">\n",
       "  <thead>\n",
       "    <tr style=\"text-align: right;\">\n",
       "      <th></th>\n",
       "      <th>customer_id</th>\n",
       "      <th>date</th>\n",
       "      <th>quantity</th>\n",
       "      <th>price</th>\n",
       "    </tr>\n",
       "  </thead>\n",
       "  <tbody>\n",
       "    <tr>\n",
       "      <th>count</th>\n",
       "      <td>69659.000000</td>\n",
       "      <td>69659</td>\n",
       "      <td>69659.000000</td>\n",
       "      <td>69659.000000</td>\n",
       "    </tr>\n",
       "    <tr>\n",
       "      <th>mean</th>\n",
       "      <td>11470.854592</td>\n",
       "      <td>1997-07-02 22:36:51.401254656</td>\n",
       "      <td>2.410040</td>\n",
       "      <td>35.893648</td>\n",
       "    </tr>\n",
       "    <tr>\n",
       "      <th>min</th>\n",
       "      <td>1.000000</td>\n",
       "      <td>1997-01-01 00:00:00</td>\n",
       "      <td>1.000000</td>\n",
       "      <td>0.000000</td>\n",
       "    </tr>\n",
       "    <tr>\n",
       "      <th>25%</th>\n",
       "      <td>5506.000000</td>\n",
       "      <td>1997-02-22 00:00:00</td>\n",
       "      <td>1.000000</td>\n",
       "      <td>14.490000</td>\n",
       "    </tr>\n",
       "    <tr>\n",
       "      <th>50%</th>\n",
       "      <td>11410.000000</td>\n",
       "      <td>1997-04-24 00:00:00</td>\n",
       "      <td>2.000000</td>\n",
       "      <td>25.980000</td>\n",
       "    </tr>\n",
       "    <tr>\n",
       "      <th>75%</th>\n",
       "      <td>17273.000000</td>\n",
       "      <td>1997-11-07 00:00:00</td>\n",
       "      <td>3.000000</td>\n",
       "      <td>43.700000</td>\n",
       "    </tr>\n",
       "    <tr>\n",
       "      <th>max</th>\n",
       "      <td>23570.000000</td>\n",
       "      <td>1998-06-30 00:00:00</td>\n",
       "      <td>99.000000</td>\n",
       "      <td>1286.010000</td>\n",
       "    </tr>\n",
       "    <tr>\n",
       "      <th>std</th>\n",
       "      <td>6819.904848</td>\n",
       "      <td>NaN</td>\n",
       "      <td>2.333924</td>\n",
       "      <td>36.281942</td>\n",
       "    </tr>\n",
       "  </tbody>\n",
       "</table>\n",
       "</div>"
      ],
      "text/plain": [
       "        customer_id                           date      quantity         price\n",
       "count  69659.000000                          69659  69659.000000  69659.000000\n",
       "mean   11470.854592  1997-07-02 22:36:51.401254656      2.410040     35.893648\n",
       "min        1.000000            1997-01-01 00:00:00      1.000000      0.000000\n",
       "25%     5506.000000            1997-02-22 00:00:00      1.000000     14.490000\n",
       "50%    11410.000000            1997-04-24 00:00:00      2.000000     25.980000\n",
       "75%    17273.000000            1997-11-07 00:00:00      3.000000     43.700000\n",
       "max    23570.000000            1998-06-30 00:00:00     99.000000   1286.010000\n",
       "std     6819.904848                            NaN      2.333924     36.281942"
      ]
     },
     "execution_count": 10,
     "metadata": {},
     "output_type": "execute_result"
    }
   ],
   "source": [
    "df.describe()"
   ]
  },
  {
   "cell_type": "markdown",
   "id": "dc0a33a9-3d84-4537-8047-b77a88865251",
   "metadata": {},
   "source": [
    "69659 rows, but 23570 customer_ids - this indicates there are repeat purchases. Min quantity is 1 meaning all customers in this list made at least 1 purchase/transaction. Min price of 0 indicates that there are some purchases that are free."
   ]
  },
  {
   "cell_type": "code",
   "execution_count": 11,
   "id": "8bf6512b-1fc3-4e9e-bcae-ca0400f5266a",
   "metadata": {},
   "outputs": [
    {
     "name": "stdout",
     "output_type": "stream",
     "text": [
      "       customer_id       date  quantity    price\n",
      "27632         8830 1998-06-10        99  1286.01\n"
     ]
    }
   ],
   "source": [
    "# checking out the max number of items purchased (quantity == 99)\n",
    "max_quantity = df['quantity'].max()\n",
    "print(df[df['quantity'] == max_quantity])"
   ]
  },
  {
   "cell_type": "code",
   "execution_count": 12,
   "id": "693951a5-9b32-433b-829a-1e8a7550b399",
   "metadata": {},
   "outputs": [
    {
     "name": "stdout",
     "output_type": "stream",
     "text": [
      "       customer_id       date  quantity    price\n",
      "27632         8830 1998-06-10        99  1286.01\n"
     ]
    }
   ],
   "source": [
    "# checking out the largest single transaction (price == 1286.01)\n",
    "max_price = df['price'].max()\n",
    "print(df[df['price'] == max_price])"
   ]
  },
  {
   "cell_type": "code",
   "execution_count": 13,
   "id": "a201ae3b-d9d8-4bb8-8ee4-93f071994115",
   "metadata": {},
   "outputs": [
    {
     "name": "stdout",
     "output_type": "stream",
     "text": [
      "       customer_id       date  quantity  price\n",
      "1548           455 1997-01-02         1    0.0\n",
      "2446           713 1997-01-03         1    0.0\n",
      "3066           908 1997-01-04         1    0.0\n",
      "3118           925 1997-01-04         1    0.0\n",
      "3623          1101 1997-01-05         1    0.0\n",
      "...            ...        ...       ...    ...\n",
      "65701        22173 1997-03-19         1    0.0\n",
      "67706        22848 1997-03-22         1    0.0\n",
      "68013        22950 1997-03-23         1    0.0\n",
      "68076        22979 1997-03-23         1    0.0\n",
      "68593        23157 1997-03-24         1    0.0\n",
      "\n",
      "[80 rows x 4 columns]\n"
     ]
    }
   ],
   "source": [
    "# checking out the $0 transactions\n",
    "min_price = df['price'].min()\n",
    "print(df[df['price'] == min_price])"
   ]
  },
  {
   "cell_type": "code",
   "execution_count": 14,
   "id": "5541f987-d40b-470e-a77f-a2368fb62ffa",
   "metadata": {},
   "outputs": [],
   "source": [
    "# taking a look at purchase trends over time\n",
    "# looking at sum of spend and sum of quantities per by date\n",
    "df_sum_date = df.groupby('date')[['quantity', 'price']].sum()\n",
    "df_sum_date = df_sum_date.rename(columns={'quantity': 'quantity_sum', 'price': 'price_sum'})"
   ]
  },
  {
   "cell_type": "code",
   "execution_count": 15,
   "id": "f32f64e4-8e10-4413-88a2-c9c18d2b0edc",
   "metadata": {},
   "outputs": [
    {
     "data": {
      "text/html": [
       "<div>\n",
       "<style scoped>\n",
       "    .dataframe tbody tr th:only-of-type {\n",
       "        vertical-align: middle;\n",
       "    }\n",
       "\n",
       "    .dataframe tbody tr th {\n",
       "        vertical-align: top;\n",
       "    }\n",
       "\n",
       "    .dataframe thead th {\n",
       "        text-align: right;\n",
       "    }\n",
       "</style>\n",
       "<table border=\"1\" class=\"dataframe\">\n",
       "  <thead>\n",
       "    <tr style=\"text-align: right;\">\n",
       "      <th></th>\n",
       "      <th>quantity_sum</th>\n",
       "      <th>price_sum</th>\n",
       "    </tr>\n",
       "    <tr>\n",
       "      <th>date</th>\n",
       "      <th></th>\n",
       "      <th></th>\n",
       "    </tr>\n",
       "  </thead>\n",
       "  <tbody>\n",
       "    <tr>\n",
       "      <th>1997-01-01</th>\n",
       "      <td>494</td>\n",
       "      <td>7515.35</td>\n",
       "    </tr>\n",
       "    <tr>\n",
       "      <th>1997-01-02</th>\n",
       "      <td>530</td>\n",
       "      <td>8025.95</td>\n",
       "    </tr>\n",
       "    <tr>\n",
       "      <th>1997-01-03</th>\n",
       "      <td>495</td>\n",
       "      <td>7475.04</td>\n",
       "    </tr>\n",
       "    <tr>\n",
       "      <th>1997-01-04</th>\n",
       "      <td>404</td>\n",
       "      <td>6722.93</td>\n",
       "    </tr>\n",
       "    <tr>\n",
       "      <th>1997-01-05</th>\n",
       "      <td>590</td>\n",
       "      <td>9274.80</td>\n",
       "    </tr>\n",
       "  </tbody>\n",
       "</table>\n",
       "</div>"
      ],
      "text/plain": [
       "            quantity_sum  price_sum\n",
       "date                               \n",
       "1997-01-01           494    7515.35\n",
       "1997-01-02           530    8025.95\n",
       "1997-01-03           495    7475.04\n",
       "1997-01-04           404    6722.93\n",
       "1997-01-05           590    9274.80"
      ]
     },
     "execution_count": 15,
     "metadata": {},
     "output_type": "execute_result"
    }
   ],
   "source": [
    "df_sum_date.head()"
   ]
  },
  {
   "cell_type": "code",
   "execution_count": 16,
   "id": "d887aa54-c9d7-4ec6-b8c3-96a840b7bf82",
   "metadata": {},
   "outputs": [
    {
     "data": {
      "image/png": "[encoded data removed]",
      "text/plain": [
       "<Figure size 1000x600 with 1 Axes>"
      ]
     },
     "metadata": {},
     "output_type": "display_data"
    }
   ],
   "source": [
    "# making a plot to see the sum of spend over time\n",
    "# restting the index to make date a column again\n",
    "df_sum_date.reset_index()\n",
    "\n",
    "# createing the line plot\n",
    "plt.figure(figsize=(10, 6))\n",
    "sns.lineplot(data=df_sum_date, x='date', y='price_sum')\n",
    "\n",
    "# rotating the xticks for readability\n",
    "plt.xticks(rotation=45)\n",
    "\n",
    "# Set labels and title\n",
    "plt.xlabel('Date')\n",
    "plt.ylabel('Price Sum ($)')\n",
    "plt.title('Sum of Prices Over Time')\n",
    "\n",
    "plt.show()"
   ]
  },
  {
   "cell_type": "code",
   "execution_count": 17,
   "id": "c34769ee-8749-4272-b03a-67effcb1465e",
   "metadata": {},
   "outputs": [
    {
     "data": {
      "image/png": "[encoded data removed]",
      "text/plain": [
       "<Figure size 1000x600 with 1 Axes>"
      ]
     },
     "metadata": {},
     "output_type": "display_data"
    }
   ],
   "source": [
    "# plotting sum of quantity of purchases over time\n",
    "\n",
    "#createing the line plot\n",
    "plt.figure(figsize=(10, 6))\n",
    "sns.lineplot(data=df_sum_date, x='date', y='quantity_sum')\n",
    "\n",
    "# rotating the xticks for readability\n",
    "plt.xticks(rotation=45)\n",
    "\n",
    "# Set labels and title\n",
    "plt.xlabel('Date')\n",
    "plt.ylabel('Sum of Quantity')\n",
    "plt.title('Sum of Quantity Over Time')\n",
    "\n",
    "plt.show()"
   ]
  },
  {
   "cell_type": "markdown",
   "id": "54a803d4-c39a-45d8-a4f0-121647d15c3d",
   "metadata": {},
   "source": [
    "The pattern of sum quantity purchased and sum price purchased look practically identical."
   ]
  },
  {
   "cell_type": "markdown",
   "id": "f5e82362-b425-4aa7-b88d-364a00cc0f8f",
   "metadata": {},
   "source": [
    "### 2.2 Cohort Analysis\n",
    "Taking a look at customers who first purchased in the 1997 Jan to 1997 Mar period (new customers). This is called cohort analysis - because they are subject to similar conditions when they first purchased."
   ]
  },
  {
   "cell_type": "code",
   "execution_count": 18,
   "id": "8c2ea89b-555f-4d71-894e-f39f040fc30c",
   "metadata": {},
   "outputs": [],
   "source": [
    "# getting range of initial purchases\n",
    "df_first_purchase = df.groupby('customer_id').min().sort_values(['customer_id', 'date'])"
   ]
  },
  {
   "cell_type": "code",
   "execution_count": 19,
   "id": "a2f54db9-1311-4b96-b9be-6054f63c2672",
   "metadata": {},
   "outputs": [
    {
     "data": {
      "text/html": [
       "<div>\n",
       "<style scoped>\n",
       "    .dataframe tbody tr th:only-of-type {\n",
       "        vertical-align: middle;\n",
       "    }\n",
       "\n",
       "    .dataframe tbody tr th {\n",
       "        vertical-align: top;\n",
       "    }\n",
       "\n",
       "    .dataframe thead th {\n",
       "        text-align: right;\n",
       "    }\n",
       "</style>\n",
       "<table border=\"1\" class=\"dataframe\">\n",
       "  <thead>\n",
       "    <tr style=\"text-align: right;\">\n",
       "      <th></th>\n",
       "      <th>date</th>\n",
       "      <th>quantity</th>\n",
       "      <th>price</th>\n",
       "    </tr>\n",
       "    <tr>\n",
       "      <th>customer_id</th>\n",
       "      <th></th>\n",
       "      <th></th>\n",
       "      <th></th>\n",
       "    </tr>\n",
       "  </thead>\n",
       "  <tbody>\n",
       "    <tr>\n",
       "      <th>1</th>\n",
       "      <td>1997-01-01</td>\n",
       "      <td>1</td>\n",
       "      <td>11.77</td>\n",
       "    </tr>\n",
       "    <tr>\n",
       "      <th>2</th>\n",
       "      <td>1997-01-12</td>\n",
       "      <td>1</td>\n",
       "      <td>12.00</td>\n",
       "    </tr>\n",
       "    <tr>\n",
       "      <th>3</th>\n",
       "      <td>1997-01-02</td>\n",
       "      <td>1</td>\n",
       "      <td>16.99</td>\n",
       "    </tr>\n",
       "    <tr>\n",
       "      <th>4</th>\n",
       "      <td>1997-01-01</td>\n",
       "      <td>1</td>\n",
       "      <td>14.96</td>\n",
       "    </tr>\n",
       "    <tr>\n",
       "      <th>5</th>\n",
       "      <td>1997-01-01</td>\n",
       "      <td>1</td>\n",
       "      <td>13.97</td>\n",
       "    </tr>\n",
       "    <tr>\n",
       "      <th>...</th>\n",
       "      <td>...</td>\n",
       "      <td>...</td>\n",
       "      <td>...</td>\n",
       "    </tr>\n",
       "    <tr>\n",
       "      <th>23566</th>\n",
       "      <td>1997-03-25</td>\n",
       "      <td>2</td>\n",
       "      <td>36.00</td>\n",
       "    </tr>\n",
       "    <tr>\n",
       "      <th>23567</th>\n",
       "      <td>1997-03-25</td>\n",
       "      <td>1</td>\n",
       "      <td>20.97</td>\n",
       "    </tr>\n",
       "    <tr>\n",
       "      <th>23568</th>\n",
       "      <td>1997-03-25</td>\n",
       "      <td>1</td>\n",
       "      <td>14.99</td>\n",
       "    </tr>\n",
       "    <tr>\n",
       "      <th>23569</th>\n",
       "      <td>1997-03-25</td>\n",
       "      <td>2</td>\n",
       "      <td>25.74</td>\n",
       "    </tr>\n",
       "    <tr>\n",
       "      <th>23570</th>\n",
       "      <td>1997-03-25</td>\n",
       "      <td>2</td>\n",
       "      <td>42.96</td>\n",
       "    </tr>\n",
       "  </tbody>\n",
       "</table>\n",
       "<p>23570 rows × 3 columns</p>\n",
       "</div>"
      ],
      "text/plain": [
       "                  date  quantity  price\n",
       "customer_id                            \n",
       "1           1997-01-01         1  11.77\n",
       "2           1997-01-12         1  12.00\n",
       "3           1997-01-02         1  16.99\n",
       "4           1997-01-01         1  14.96\n",
       "5           1997-01-01         1  13.97\n",
       "...                ...       ...    ...\n",
       "23566       1997-03-25         2  36.00\n",
       "23567       1997-03-25         1  20.97\n",
       "23568       1997-03-25         1  14.99\n",
       "23569       1997-03-25         2  25.74\n",
       "23570       1997-03-25         2  42.96\n",
       "\n",
       "[23570 rows x 3 columns]"
      ]
     },
     "execution_count": 19,
     "metadata": {},
     "output_type": "execute_result"
    }
   ],
   "source": [
    "df_first_purchase"
   ]
  },
  {
   "cell_type": "code",
   "execution_count": 20,
   "id": "0e7101ff-f6bf-4582-a994-a6fdba9630e4",
   "metadata": {},
   "outputs": [
    {
     "data": {
      "text/html": [
       "<div>\n",
       "<style scoped>\n",
       "    .dataframe tbody tr th:only-of-type {\n",
       "        vertical-align: middle;\n",
       "    }\n",
       "\n",
       "    .dataframe tbody tr th {\n",
       "        vertical-align: top;\n",
       "    }\n",
       "\n",
       "    .dataframe thead th {\n",
       "        text-align: right;\n",
       "    }\n",
       "</style>\n",
       "<table border=\"1\" class=\"dataframe\">\n",
       "  <thead>\n",
       "    <tr style=\"text-align: right;\">\n",
       "      <th></th>\n",
       "      <th>date</th>\n",
       "      <th>quantity</th>\n",
       "      <th>price</th>\n",
       "    </tr>\n",
       "  </thead>\n",
       "  <tbody>\n",
       "    <tr>\n",
       "      <th>count</th>\n",
       "      <td>23570</td>\n",
       "      <td>23570.000000</td>\n",
       "      <td>23570.000000</td>\n",
       "    </tr>\n",
       "    <tr>\n",
       "      <th>mean</th>\n",
       "      <td>1997-02-12 21:45:13.517182976</td>\n",
       "      <td>1.689902</td>\n",
       "      <td>24.710771</td>\n",
       "    </tr>\n",
       "    <tr>\n",
       "      <th>min</th>\n",
       "      <td>1997-01-01 00:00:00</td>\n",
       "      <td>1.000000</td>\n",
       "      <td>0.000000</td>\n",
       "    </tr>\n",
       "    <tr>\n",
       "      <th>25%</th>\n",
       "      <td>1997-01-25 00:00:00</td>\n",
       "      <td>1.000000</td>\n",
       "      <td>11.990000</td>\n",
       "    </tr>\n",
       "    <tr>\n",
       "      <th>50%</th>\n",
       "      <td>1997-02-13 00:00:00</td>\n",
       "      <td>1.000000</td>\n",
       "      <td>15.360000</td>\n",
       "    </tr>\n",
       "    <tr>\n",
       "      <th>75%</th>\n",
       "      <td>1997-03-05 00:00:00</td>\n",
       "      <td>2.000000</td>\n",
       "      <td>28.930000</td>\n",
       "    </tr>\n",
       "    <tr>\n",
       "      <th>max</th>\n",
       "      <td>1997-03-25 00:00:00</td>\n",
       "      <td>40.000000</td>\n",
       "      <td>1119.680000</td>\n",
       "    </tr>\n",
       "    <tr>\n",
       "      <th>std</th>\n",
       "      <td>NaN</td>\n",
       "      <td>1.533405</td>\n",
       "      <td>25.758258</td>\n",
       "    </tr>\n",
       "  </tbody>\n",
       "</table>\n",
       "</div>"
      ],
      "text/plain": [
       "                                date      quantity         price\n",
       "count                          23570  23570.000000  23570.000000\n",
       "mean   1997-02-12 21:45:13.517182976      1.689902     24.710771\n",
       "min              1997-01-01 00:00:00      1.000000      0.000000\n",
       "25%              1997-01-25 00:00:00      1.000000     11.990000\n",
       "50%              1997-02-13 00:00:00      1.000000     15.360000\n",
       "75%              1997-03-05 00:00:00      2.000000     28.930000\n",
       "max              1997-03-25 00:00:00     40.000000   1119.680000\n",
       "std                              NaN      1.533405     25.758258"
      ]
     },
     "execution_count": 20,
     "metadata": {},
     "output_type": "execute_result"
    }
   ],
   "source": [
    "df_first_purchase.describe()"
   ]
  },
  {
   "cell_type": "code",
   "execution_count": 21,
   "id": "6332f3bb-5422-4831-8722-993df61ea0c3",
   "metadata": {},
   "outputs": [
    {
     "name": "stdout",
     "output_type": "stream",
     "text": [
      "23570\n",
      "23570\n"
     ]
    }
   ],
   "source": [
    "# counting num unique customers in df_first_purchase and df\n",
    "print(df_first_purchase.index.nunique())\n",
    "print(df['customer_id'].nunique())"
   ]
  },
  {
   "cell_type": "markdown",
   "id": "47a60741-f0ef-418e-bae4-b6803cd59eb1",
   "metadata": {},
   "source": [
    "Verified that the dataset indeed only captures customers who first signed-on during 1997-01-01 to 1997-03-25"
   ]
  },
  {
   "cell_type": "markdown",
   "id": "a48237d2-7353-43e4-b3d6-929e65cb35e8",
   "metadata": {},
   "source": [
    "### 2.3 Visualizing Some Customers: Individual Purchases"
   ]
  },
  {
   "cell_type": "code",
   "execution_count": 22,
   "id": "3210906d-4c92-4281-afcb-af7d5cedd951",
   "metadata": {},
   "outputs": [],
   "source": [
    "ids = df['customer_id'].unique()\n",
    "\n",
    "# masking a mask to pick 10 customer_ids - arbritrary selection - can be any number so desired\n",
    "ids_selected = ids[0:10]\n",
    "\n",
    "df_cust_selected = df[df['customer_id'].isin(ids_selected)]\n",
    "df_cust_selected_sum = df_cust_selected.groupby(['customer_id', 'date']).sum()"
   ]
  },
  {
   "cell_type": "code",
   "execution_count": 23,
   "id": "9be092bc-27e0-4e54-906d-adf0fa901773",
   "metadata": {},
   "outputs": [
    {
     "data": {
      "text/html": [
       "<div>\n",
       "<style scoped>\n",
       "    .dataframe tbody tr th:only-of-type {\n",
       "        vertical-align: middle;\n",
       "    }\n",
       "\n",
       "    .dataframe tbody tr th {\n",
       "        vertical-align: top;\n",
       "    }\n",
       "\n",
       "    .dataframe thead th {\n",
       "        text-align: right;\n",
       "    }\n",
       "</style>\n",
       "<table border=\"1\" class=\"dataframe\">\n",
       "  <thead>\n",
       "    <tr style=\"text-align: right;\">\n",
       "      <th></th>\n",
       "      <th></th>\n",
       "      <th>quantity</th>\n",
       "      <th>price</th>\n",
       "    </tr>\n",
       "    <tr>\n",
       "      <th>customer_id</th>\n",
       "      <th>date</th>\n",
       "      <th></th>\n",
       "      <th></th>\n",
       "    </tr>\n",
       "  </thead>\n",
       "  <tbody>\n",
       "    <tr>\n",
       "      <th>1</th>\n",
       "      <th>1997-01-01</th>\n",
       "      <td>1</td>\n",
       "      <td>11.77</td>\n",
       "    </tr>\n",
       "    <tr>\n",
       "      <th>2</th>\n",
       "      <th>1997-01-12</th>\n",
       "      <td>6</td>\n",
       "      <td>89.00</td>\n",
       "    </tr>\n",
       "    <tr>\n",
       "      <th rowspan=\"3\" valign=\"top\">3</th>\n",
       "      <th>1997-01-02</th>\n",
       "      <td>2</td>\n",
       "      <td>20.76</td>\n",
       "    </tr>\n",
       "    <tr>\n",
       "      <th>1997-03-30</th>\n",
       "      <td>2</td>\n",
       "      <td>20.76</td>\n",
       "    </tr>\n",
       "    <tr>\n",
       "      <th>1997-04-02</th>\n",
       "      <td>2</td>\n",
       "      <td>19.54</td>\n",
       "    </tr>\n",
       "  </tbody>\n",
       "</table>\n",
       "</div>"
      ],
      "text/plain": [
       "                        quantity  price\n",
       "customer_id date                       \n",
       "1           1997-01-01         1  11.77\n",
       "2           1997-01-12         6  89.00\n",
       "3           1997-01-02         2  20.76\n",
       "            1997-03-30         2  20.76\n",
       "            1997-04-02         2  19.54"
      ]
     },
     "execution_count": 23,
     "metadata": {},
     "output_type": "execute_result"
    }
   ],
   "source": [
    "df_cust_selected_sum.head()"
   ]
  },
  {
   "cell_type": "code",
   "execution_count": 24,
   "id": "73fb429f-4222-4822-b2ed-f8113ab389c3",
   "metadata": {},
   "outputs": [
    {
     "ename": "NameError",
     "evalue": "name 'ax' is not defined",
     "output_type": "error",
     "traceback": [
      "\u001b[0;31m---------------------------------------------------------------------------\u001b[0m",
      "\u001b[0;31mNameError\u001b[0m                                 Traceback (most recent call last)",
      "Cell \u001b[0;32mIn[24], line 12\u001b[0m\n\u001b[1;32m      7\u001b[0m \u001b[38;5;66;03m# Plot \u001b[39;00m\n\u001b[1;32m      8\u001b[0m sns\u001b[38;5;241m.\u001b[39mrelplot(data\u001b[38;5;241m=\u001b[39mdf_cust_selected_sum, x\u001b[38;5;241m=\u001b[39m\u001b[38;5;124m'\u001b[39m\u001b[38;5;124mdate\u001b[39m\u001b[38;5;124m'\u001b[39m, y\u001b[38;5;241m=\u001b[39m\u001b[38;5;124m'\u001b[39m\u001b[38;5;124mprice\u001b[39m\u001b[38;5;124m'\u001b[39m,\n\u001b[1;32m      9\u001b[0m            col\u001b[38;5;241m=\u001b[39m\u001b[38;5;124m'\u001b[39m\u001b[38;5;124mcustomer_id\u001b[39m\u001b[38;5;124m'\u001b[39m, col_wrap\u001b[38;5;241m=\u001b[39m\u001b[38;5;241m4\u001b[39m,\n\u001b[1;32m     10\u001b[0m            kind\u001b[38;5;241m=\u001b[39m\u001b[38;5;124m'\u001b[39m\u001b[38;5;124mline\u001b[39m\u001b[38;5;124m'\u001b[39m, marker\u001b[38;5;241m=\u001b[39m\u001b[38;5;124m'\u001b[39m\u001b[38;5;124mo\u001b[39m\u001b[38;5;124m'\u001b[39m)\n\u001b[0;32m---> 12\u001b[0m ax\u001b[38;5;241m.\u001b[39mset_title(\u001b[38;5;124m'\u001b[39m\u001b[38;5;124mSum of Price per Day\u001b[39m\u001b[38;5;124m'\u001b[39m)\n\u001b[1;32m     13\u001b[0m ax\u001b[38;5;241m.\u001b[39mset_xlabel(\u001b[38;5;124m'\u001b[39m\u001b[38;5;124mDate\u001b[39m\u001b[38;5;124m'\u001b[39m)\n\u001b[1;32m     14\u001b[0m ax\u001b[38;5;241m.\u001b[39mset_ylabel(\u001b[38;5;124m'\u001b[39m\u001b[38;5;124mPrice\u001b[39m\u001b[38;5;124m'\u001b[39m)\n",
      "\u001b[0;31mNameError\u001b[0m: name 'ax' is not defined"
     ]
    },
    {
     "data": {
      "image/png": "[encoded data removed]",
      "text/plain": [
       "<Figure size 2000x1500 with 10 Axes>"
      ]
     },
     "metadata": {},
     "output_type": "display_data"
    }
   ],
   "source": [
    "# making an sns line plot for each customer \n",
    "# parition with subplot\n",
    "\n",
    "# sets style\n",
    "sns.set_style(\"darkgrid\")\n",
    "\n",
    "# Plot \n",
    "sns.relplot(data=df_cust_selected_sum, x='date', y='price',\n",
    "           col='customer_id', col_wrap=4,\n",
    "           kind='line', marker='o')\n",
    "\n",
    "ax.set_title('Sum of Price per Day')\n",
    "ax.set_xlabel('Date')\n",
    "ax.set_ylabel('Price')\n",
    "ax.legend(title='Customer ID')\n",
    "\n",
    "plt.show()"
   ]
  },
  {
   "cell_type": "markdown",
   "id": "942b40a4-a0a4-414e-b914-2a61fedf96b8",
   "metadata": {},
   "source": [
    "Some things we can notice: customer 1, 2, 10 only bought once and that's it. These customers have a low chance of shopping ever again.\n",
    "\n",
    "Customer 3 shows some promise, so things like discounts can spur them to buy more. These types of customers have a good likelihood to be long term customers. \n",
    "\n",
    "Customers 4, 5, 8 are dying customers - where they have frequent activity, and suddenly their activity stops. Maybe they left for other services etc. These are the customers we want to stop from leaving."
   ]
  },
  {
   "cell_type": "markdown",
   "id": "c58b2900-4075-4a1d-9430-a995a982ad20",
   "metadata": {},
   "source": [
    "## 3. Machine Learning\n",
    "This portion is where machine learning is done\n",
    "\n",
    "The things we want to know:\n",
    "1. What will the customers spend in the next 90 days? (regression)\n",
    "2. What is the probability of a customer to make a purchase in the next 90 days? (classification)"
   ]
  },
  {
   "cell_type": "markdown",
   "id": "13d8e351-12d4-432c-b913-fd6b6bc4c56c",
   "metadata": {},
   "source": [
    "### 3.1 Time splitting\n",
    "We're essentially making the dataset in which we want to predict future outcomes (our target dataset). We apply the trained model onto this.\n",
    "\n",
    "We're also making our training set (and will further split that into test set)."
   ]
  },
  {
   "cell_type": "code",
   "execution_count": 25,
   "id": "97c925b6-415c-43b4-8580-c8d1968f63c5",
   "metadata": {},
   "outputs": [],
   "source": [
    "# we want to predict 90 days into the future \n",
    "n_days = 30\n",
    "cutoff = df['date'].max() - timedelta(days=n_days)\n",
    "\n",
    "# will use these 2 for boolean masking for making the features and targets in the next section\n",
    "temporal_out_df = df[df['date'] > cutoff]\n",
    "temporal_in_df = df[df['date'] <= cutoff]"
   ]
  },
  {
   "cell_type": "markdown",
   "id": "1c33d627-aa03-4dd7-b71b-e595a9e61ad3",
   "metadata": {},
   "source": [
    "### 3.2 Feature Engineering\n",
    "This section shows the feature creation step. This is especially important since the original dataset in its raw form is not necessarily useful for training models.\n",
    "\n",
    "Special note: Feature engineering is especially important for XGBoost models."
   ]
  },
  {
   "cell_type": "code",
   "execution_count": 26,
   "id": "0b1a754e-b76c-4df8-b299-e2173ba01784",
   "metadata": {},
   "outputs": [],
   "source": [
    "# making the targets\n",
    "targets_df = temporal_out_df.drop(['quantity', 'date'], axis=1)\\\n",
    "    .groupby('customer_id')\\\n",
    "    .sum()\\\n",
    "    .rename({'price' : 'spend_90_total'}, axis=1)\\\n",
    "    .assign(spend_90_flag=1)"
   ]
  },
  {
   "cell_type": "code",
   "execution_count": 27,
   "id": "252cd102-2057-4a61-8f44-7ac64d556d8b",
   "metadata": {},
   "outputs": [
    {
     "data": {
      "text/html": [
       "<div>\n",
       "<style scoped>\n",
       "    .dataframe tbody tr th:only-of-type {\n",
       "        vertical-align: middle;\n",
       "    }\n",
       "\n",
       "    .dataframe tbody tr th {\n",
       "        vertical-align: top;\n",
       "    }\n",
       "\n",
       "    .dataframe thead th {\n",
       "        text-align: right;\n",
       "    }\n",
       "</style>\n",
       "<table border=\"1\" class=\"dataframe\">\n",
       "  <thead>\n",
       "    <tr style=\"text-align: right;\">\n",
       "      <th></th>\n",
       "      <th>customer_id</th>\n",
       "      <th>spend_90_total</th>\n",
       "      <th>spend_90_flag</th>\n",
       "    </tr>\n",
       "  </thead>\n",
       "  <tbody>\n",
       "    <tr>\n",
       "      <th>0</th>\n",
       "      <td>9</td>\n",
       "      <td>41.98</td>\n",
       "      <td>1</td>\n",
       "    </tr>\n",
       "    <tr>\n",
       "      <th>1</th>\n",
       "      <td>25</td>\n",
       "      <td>49.95</td>\n",
       "      <td>1</td>\n",
       "    </tr>\n",
       "    <tr>\n",
       "      <th>2</th>\n",
       "      <td>47</td>\n",
       "      <td>12.99</td>\n",
       "      <td>1</td>\n",
       "    </tr>\n",
       "    <tr>\n",
       "      <th>3</th>\n",
       "      <td>48</td>\n",
       "      <td>38.97</td>\n",
       "      <td>1</td>\n",
       "    </tr>\n",
       "    <tr>\n",
       "      <th>4</th>\n",
       "      <td>64</td>\n",
       "      <td>37.56</td>\n",
       "      <td>1</td>\n",
       "    </tr>\n",
       "    <tr>\n",
       "      <th>...</th>\n",
       "      <td>...</td>\n",
       "      <td>...</td>\n",
       "      <td>...</td>\n",
       "    </tr>\n",
       "    <tr>\n",
       "      <th>1501</th>\n",
       "      <td>23444</td>\n",
       "      <td>21.22</td>\n",
       "      <td>1</td>\n",
       "    </tr>\n",
       "    <tr>\n",
       "      <th>1502</th>\n",
       "      <td>23489</td>\n",
       "      <td>9.99</td>\n",
       "      <td>1</td>\n",
       "    </tr>\n",
       "    <tr>\n",
       "      <th>1503</th>\n",
       "      <td>23513</td>\n",
       "      <td>28.99</td>\n",
       "      <td>1</td>\n",
       "    </tr>\n",
       "    <tr>\n",
       "      <th>1504</th>\n",
       "      <td>23555</td>\n",
       "      <td>27.48</td>\n",
       "      <td>1</td>\n",
       "    </tr>\n",
       "    <tr>\n",
       "      <th>1505</th>\n",
       "      <td>23556</td>\n",
       "      <td>28.98</td>\n",
       "      <td>1</td>\n",
       "    </tr>\n",
       "  </tbody>\n",
       "</table>\n",
       "<p>1506 rows × 3 columns</p>\n",
       "</div>"
      ],
      "text/plain": [
       "      customer_id  spend_90_total  spend_90_flag\n",
       "0               9           41.98              1\n",
       "1              25           49.95              1\n",
       "2              47           12.99              1\n",
       "3              48           38.97              1\n",
       "4              64           37.56              1\n",
       "...           ...             ...            ...\n",
       "1501        23444           21.22              1\n",
       "1502        23489            9.99              1\n",
       "1503        23513           28.99              1\n",
       "1504        23555           27.48              1\n",
       "1505        23556           28.98              1\n",
       "\n",
       "[1506 rows x 3 columns]"
      ]
     },
     "execution_count": 27,
     "metadata": {},
     "output_type": "execute_result"
    }
   ],
   "source": [
    "targets_df.reset_index()"
   ]
  },
  {
   "cell_type": "code",
   "execution_count": 28,
   "id": "05fd2861-dfcb-44dc-96c7-260d3190002f",
   "metadata": {},
   "outputs": [],
   "source": [
    "# making the features\n",
    "max_date = temporal_in_df['date'].max()\n",
    "\n",
    "# calculating recency for each customer_id\n",
    "# trying to find how recent their last puchase was from max_date\n",
    "def recency_func(df):\n",
    "    last_purchase = (df['date'].max() - max_date).days\n",
    "    return (pd.DataFrame({'recency':[last_purchase]}))\n",
    "\n",
    "# making recency features\n",
    "recency_features_df = temporal_in_df.groupby('customer_id')[['customer_id', 'date']].apply(recency_func).reset_index()\n",
    "recency_features_df.drop(columns='level_1', inplace=True)"
   ]
  },
  {
   "cell_type": "code",
   "execution_count": 29,
   "id": "80576091-1da0-4a44-9902-872d47a08c24",
   "metadata": {},
   "outputs": [],
   "source": [
    "# making frequency features\n",
    "# how frequent is this customer making purchases\n",
    "\n",
    "frequency_features_df = temporal_in_df.groupby('customer_id').count().reset_index().rename(columns={'date': 'frequency'})\n",
    "frequency_features_df.drop(columns=['quantity', 'price'], inplace=True)"
   ]
  },
  {
   "cell_type": "code",
   "execution_count": 30,
   "id": "7ba048d5-ca44-4336-9971-ddb748b0cbd2",
   "metadata": {},
   "outputs": [],
   "source": [
    "# making monetary features\n",
    "# sum and average\n",
    "\n",
    "# doing it this way instead of making a dict inside agg will result in a flat df - easier for merging\n",
    "# e.g. .agg({'price': ['sumn', 'mean']}) will have multi index\n",
    "price_features_df = temporal_in_df.groupby('customer_id')['price'].agg(['sum', 'mean']).reset_index()\n",
    "price_features_df.rename(columns={'sum': 'price_sum', 'mean': 'price_mean'}, inplace=True)"
   ]
  },
  {
   "cell_type": "code",
   "execution_count": 31,
   "id": "35289903-4ded-41f6-834c-583c3222274a",
   "metadata": {},
   "outputs": [
    {
     "data": {
      "text/html": [
       "<div>\n",
       "<style scoped>\n",
       "    .dataframe tbody tr th:only-of-type {\n",
       "        vertical-align: middle;\n",
       "    }\n",
       "\n",
       "    .dataframe tbody tr th {\n",
       "        vertical-align: top;\n",
       "    }\n",
       "\n",
       "    .dataframe thead th {\n",
       "        text-align: right;\n",
       "    }\n",
       "</style>\n",
       "<table border=\"1\" class=\"dataframe\">\n",
       "  <thead>\n",
       "    <tr style=\"text-align: right;\">\n",
       "      <th></th>\n",
       "      <th>customer_id</th>\n",
       "      <th>price_sum</th>\n",
       "      <th>price_mean</th>\n",
       "    </tr>\n",
       "  </thead>\n",
       "  <tbody>\n",
       "    <tr>\n",
       "      <th>0</th>\n",
       "      <td>1</td>\n",
       "      <td>11.77</td>\n",
       "      <td>11.770000</td>\n",
       "    </tr>\n",
       "    <tr>\n",
       "      <th>1</th>\n",
       "      <td>2</td>\n",
       "      <td>89.00</td>\n",
       "      <td>44.500000</td>\n",
       "    </tr>\n",
       "    <tr>\n",
       "      <th>2</th>\n",
       "      <td>3</td>\n",
       "      <td>156.46</td>\n",
       "      <td>26.076667</td>\n",
       "    </tr>\n",
       "    <tr>\n",
       "      <th>3</th>\n",
       "      <td>4</td>\n",
       "      <td>100.50</td>\n",
       "      <td>25.125000</td>\n",
       "    </tr>\n",
       "    <tr>\n",
       "      <th>4</th>\n",
       "      <td>5</td>\n",
       "      <td>385.61</td>\n",
       "      <td>35.055455</td>\n",
       "    </tr>\n",
       "  </tbody>\n",
       "</table>\n",
       "</div>"
      ],
      "text/plain": [
       "   customer_id  price_sum  price_mean\n",
       "0            1      11.77   11.770000\n",
       "1            2      89.00   44.500000\n",
       "2            3     156.46   26.076667\n",
       "3            4     100.50   25.125000\n",
       "4            5     385.61   35.055455"
      ]
     },
     "execution_count": 31,
     "metadata": {},
     "output_type": "execute_result"
    }
   ],
   "source": [
    "price_features_df.head()"
   ]
  },
  {
   "cell_type": "code",
   "execution_count": 32,
   "id": "d7bda3e2-9fa6-439d-a68f-34c56683d7d6",
   "metadata": {},
   "outputs": [
    {
     "data": {
      "text/html": [
       "<div>\n",
       "<style scoped>\n",
       "    .dataframe tbody tr th:only-of-type {\n",
       "        vertical-align: middle;\n",
       "    }\n",
       "\n",
       "    .dataframe tbody tr th {\n",
       "        vertical-align: top;\n",
       "    }\n",
       "\n",
       "    .dataframe thead th {\n",
       "        text-align: right;\n",
       "    }\n",
       "</style>\n",
       "<table border=\"1\" class=\"dataframe\">\n",
       "  <thead>\n",
       "    <tr style=\"text-align: right;\">\n",
       "      <th></th>\n",
       "      <th>customer_id</th>\n",
       "      <th>recency</th>\n",
       "      <th>frequency</th>\n",
       "      <th>price_sum</th>\n",
       "      <th>price_mean</th>\n",
       "      <th>spend_90_total</th>\n",
       "      <th>spend_90_flag</th>\n",
       "    </tr>\n",
       "  </thead>\n",
       "  <tbody>\n",
       "    <tr>\n",
       "      <th>0</th>\n",
       "      <td>1</td>\n",
       "      <td>-515</td>\n",
       "      <td>1</td>\n",
       "      <td>11.77</td>\n",
       "      <td>11.770000</td>\n",
       "      <td>0.00</td>\n",
       "      <td>0.0</td>\n",
       "    </tr>\n",
       "    <tr>\n",
       "      <th>1</th>\n",
       "      <td>2</td>\n",
       "      <td>-504</td>\n",
       "      <td>2</td>\n",
       "      <td>89.00</td>\n",
       "      <td>44.500000</td>\n",
       "      <td>0.00</td>\n",
       "      <td>0.0</td>\n",
       "    </tr>\n",
       "    <tr>\n",
       "      <th>2</th>\n",
       "      <td>3</td>\n",
       "      <td>-3</td>\n",
       "      <td>6</td>\n",
       "      <td>156.46</td>\n",
       "      <td>26.076667</td>\n",
       "      <td>0.00</td>\n",
       "      <td>0.0</td>\n",
       "    </tr>\n",
       "    <tr>\n",
       "      <th>3</th>\n",
       "      <td>4</td>\n",
       "      <td>-170</td>\n",
       "      <td>4</td>\n",
       "      <td>100.50</td>\n",
       "      <td>25.125000</td>\n",
       "      <td>0.00</td>\n",
       "      <td>0.0</td>\n",
       "    </tr>\n",
       "    <tr>\n",
       "      <th>4</th>\n",
       "      <td>5</td>\n",
       "      <td>-148</td>\n",
       "      <td>11</td>\n",
       "      <td>385.61</td>\n",
       "      <td>35.055455</td>\n",
       "      <td>0.00</td>\n",
       "      <td>0.0</td>\n",
       "    </tr>\n",
       "    <tr>\n",
       "      <th>5</th>\n",
       "      <td>6</td>\n",
       "      <td>-515</td>\n",
       "      <td>1</td>\n",
       "      <td>20.99</td>\n",
       "      <td>20.990000</td>\n",
       "      <td>0.00</td>\n",
       "      <td>0.0</td>\n",
       "    </tr>\n",
       "    <tr>\n",
       "      <th>6</th>\n",
       "      <td>7</td>\n",
       "      <td>-70</td>\n",
       "      <td>3</td>\n",
       "      <td>264.67</td>\n",
       "      <td>88.223333</td>\n",
       "      <td>0.00</td>\n",
       "      <td>0.0</td>\n",
       "    </tr>\n",
       "    <tr>\n",
       "      <th>7</th>\n",
       "      <td>8</td>\n",
       "      <td>-63</td>\n",
       "      <td>8</td>\n",
       "      <td>197.66</td>\n",
       "      <td>24.707500</td>\n",
       "      <td>0.00</td>\n",
       "      <td>0.0</td>\n",
       "    </tr>\n",
       "    <tr>\n",
       "      <th>8</th>\n",
       "      <td>9</td>\n",
       "      <td>-383</td>\n",
       "      <td>2</td>\n",
       "      <td>53.87</td>\n",
       "      <td>26.935000</td>\n",
       "      <td>41.98</td>\n",
       "      <td>1.0</td>\n",
       "    </tr>\n",
       "    <tr>\n",
       "      <th>9</th>\n",
       "      <td>10</td>\n",
       "      <td>-495</td>\n",
       "      <td>1</td>\n",
       "      <td>39.31</td>\n",
       "      <td>39.310000</td>\n",
       "      <td>0.00</td>\n",
       "      <td>0.0</td>\n",
       "    </tr>\n",
       "  </tbody>\n",
       "</table>\n",
       "</div>"
      ],
      "text/plain": [
       "   customer_id  recency  frequency  price_sum  price_mean  spend_90_total  \\\n",
       "0            1     -515          1      11.77   11.770000            0.00   \n",
       "1            2     -504          2      89.00   44.500000            0.00   \n",
       "2            3       -3          6     156.46   26.076667            0.00   \n",
       "3            4     -170          4     100.50   25.125000            0.00   \n",
       "4            5     -148         11     385.61   35.055455            0.00   \n",
       "5            6     -515          1      20.99   20.990000            0.00   \n",
       "6            7      -70          3     264.67   88.223333            0.00   \n",
       "7            8      -63          8     197.66   24.707500            0.00   \n",
       "8            9     -383          2      53.87   26.935000           41.98   \n",
       "9           10     -495          1      39.31   39.310000            0.00   \n",
       "\n",
       "   spend_90_flag  \n",
       "0            0.0  \n",
       "1            0.0  \n",
       "2            0.0  \n",
       "3            0.0  \n",
       "4            0.0  \n",
       "5            0.0  \n",
       "6            0.0  \n",
       "7            0.0  \n",
       "8            1.0  \n",
       "9            0.0  "
      ]
     },
     "execution_count": 32,
     "metadata": {},
     "output_type": "execute_result"
    }
   ],
   "source": [
    "# merging (join) the created targets and features\n",
    "features_df = recency_features_df.merge(frequency_features_df, on='customer_id', how='inner')\\\n",
    "    .merge(price_features_df, on='customer_id', how='inner')\\\n",
    "    .merge(targets_df, on='customer_id', how='left').fillna(0)  # left join here results in nan values. plugging these with 0\n",
    "\n",
    "features_df.head(10)"
   ]
  },
  {
   "cell_type": "code",
   "execution_count": 33,
   "id": "0fda03e4-7d15-4d03-8f28-be40da923829",
   "metadata": {},
   "outputs": [
    {
     "name": "stdout",
     "output_type": "stream",
     "text": [
      "<class 'pandas.core.frame.DataFrame'>\n",
      "RangeIndex: 23570 entries, 0 to 23569\n",
      "Data columns (total 7 columns):\n",
      " #   Column          Non-Null Count  Dtype  \n",
      "---  ------          --------------  -----  \n",
      " 0   customer_id     23570 non-null  int64  \n",
      " 1   recency         23570 non-null  int64  \n",
      " 2   frequency       23570 non-null  int64  \n",
      " 3   price_sum       23570 non-null  float64\n",
      " 4   price_mean      23570 non-null  float64\n",
      " 5   spend_90_total  23570 non-null  float64\n",
      " 6   spend_90_flag   23570 non-null  float64\n",
      "dtypes: float64(4), int64(3)\n",
      "memory usage: 1.3 MB\n"
     ]
    }
   ],
   "source": [
    "features_df.info()"
   ]
  },
  {
   "cell_type": "code",
   "execution_count": 34,
   "id": "6698bfa2-a79f-46ad-84d0-c488b9e72d65",
   "metadata": {},
   "outputs": [],
   "source": [
    "# changing spend_90_flag into cat dtype\n",
    "features_df['spend_90_flag'] = features_df['spend_90_flag'].astype('category')"
   ]
  },
  {
   "cell_type": "markdown",
   "id": "7c0b693f-7c35-4f8b-aa94-f700a3b1d926",
   "metadata": {},
   "source": [
    "## 4. Business questions + machine learning\n",
    "Some questions a business can ask about this dataset (about their customers)\n",
    "\n",
    "1. Which customers have the highest probability to spend in the next 90 days?\n",
    "2. Which customers have recently purchased but are unlikely to buy?\n",
    "3. Which customers are predicted to purchase but didn't (missed opportunities)?"
   ]
  },
  {
   "cell_type": "markdown",
   "id": "bfb99323-4c06-493d-935d-435a13a26a65",
   "metadata": {},
   "source": [
    "### 4.1 Next 90 day Spend Prediction\n",
    "This is a regression question to predict how much the customer would spend in the next 90 days"
   ]
  },
  {
   "cell_type": "code",
   "execution_count": 35,
   "id": "2e240674-5be6-44f4-9a08-67b684a9e01d",
   "metadata": {},
   "outputs": [
    {
     "name": "stdout",
     "output_type": "stream",
     "text": [
      "Training time: 2.2059 seconds\n"
     ]
    }
   ],
   "source": [
    "# setting up the variables\n",
    "X = features_df[['recency', 'frequency', 'price_sum', 'price_mean']]\n",
    "y_spend = features_df['spend_90_total']\n",
    "\n",
    "# splittin to text and train set\n",
    "X_train, X_test, y_train, y_test = train_test_split(X, y_spend, test_size=0.2, random_state=1)\n",
    "\n",
    "# creating the estimator for hyperparameter tuning\n",
    "xgb_reg_spec = XGBRegressor(objective=\"reg:squarederror\", random_state=123)\n",
    "\n",
    "# creating the parameter grid for hyperparameter tuning\n",
    "param_grid = {'learning_rate': [0.01, 0.1, 0.3, 0.5]}\n",
    "\n",
    "# starting a timer\n",
    "start_time = time.time()\n",
    "\n",
    "# creating the regression model\n",
    "xgb_reg_model = GridSearchCV(\n",
    "    xgb_reg_spec, \n",
    "    param_grid,\n",
    "    scoring = 'neg_mean_absolute_error',\n",
    "    refit = True,\n",
    "    cv = 5\n",
    ")\n",
    "\n",
    "# fitting the model\n",
    "xgb_reg_model.fit(X_train, y_train)\n",
    "\n",
    "# end timer\n",
    "end_time = time.time()\n",
    "train_time = end_time - start_time\n",
    "print('Training time: %.4f seconds' % train_time)"
   ]
  },
  {
   "cell_type": "code",
   "execution_count": 36,
   "id": "999a7ea0-534a-49e3-aded-e5c9544c7dca",
   "metadata": {},
   "outputs": [
    {
     "name": "stdout",
     "output_type": "stream",
     "text": [
      "Best score:  -4.807360088035572\n",
      "Best paramaters:  {'learning_rate': 0.1}\n"
     ]
    }
   ],
   "source": [
    "# regression model's best score\n",
    "best_score = xgb_reg_model.best_score_\n",
    "\n",
    "# regressopm model's best params\n",
    "best_params = xgb_reg_model.best_params_\n",
    "\n",
    "# regression model's best estimators\n",
    "xgb_reg_best_estimator = xgb_reg_model.best_estimator_\n",
    "\n",
    "print('Best score: ', best_score)\n",
    "print('Best paramaters: ', best_params)\n",
    "#print('Best estimator(s): ', best_estimator)"
   ]
  },
  {
   "cell_type": "code",
   "execution_count": 37,
   "id": "8b78b3e3-6cc5-46de-bef7-ad1074f83ff4",
   "metadata": {},
   "outputs": [
    {
     "name": "stdout",
     "output_type": "stream",
     "text": [
      "Mean Absolute Error (MAE): 4.895973911678672\n",
      "Mean Absolute Percentage Error (MAPE): inf\n",
      "Mean Squared Error (MSE): 938.0952700367741\n",
      "Root Mean Squared Error (RMSE): 30.628340961220445\n"
     ]
    }
   ],
   "source": [
    "# comparing y_train and y_test\n",
    "y_pred = xgb_reg_model.predict(X_test)\n",
    "\n",
    "mae = mean_absolute_error(y_test, y_pred)\n",
    "mape = np.mean(np.abs((y_test - y_pred) / y_test)) * 100\n",
    "mse = mean_squared_error(y_test, y_pred)\n",
    "rmse = np.sqrt(mse)\n",
    "\n",
    "print('Mean Absolute Error (MAE):', mae)\n",
    "print('Mean Absolute Percentage Error (MAPE):', mape)\n",
    "print('Mean Squared Error (MSE):', mse)\n",
    "print('Root Mean Squared Error (RMSE):', rmse)"
   ]
  },
  {
   "cell_type": "code",
   "execution_count": 38,
   "id": "89dad890-67d9-4527-87bd-53b80fecce5c",
   "metadata": {},
   "outputs": [
    {
     "name": "stdout",
     "output_type": "stream",
     "text": [
      "3.305659736953755\n"
     ]
    }
   ],
   "source": [
    "print(np.mean(y_test))"
   ]
  },
  {
   "cell_type": "markdown",
   "id": "55d4c0e9-36b6-4d1f-902a-86d045fb98a7",
   "metadata": {},
   "source": [
    "MAE of 4.89 dollars is comparable to the average of 3.31 dollars in y_test. This is fairly good. \n",
    "A RMSE of 30.63 dollars means that there are some outliers in either y_test or y_pred, making the value large. \n",
    "\n",
    "No point comparing them together, since it's like comparing apple to oranges; best to compare to MAE and RMSE in another model"
   ]
  },
  {
   "cell_type": "code",
   "execution_count": 39,
   "id": "419fd9c3-a614-47b2-828f-69efb0f77d1f",
   "metadata": {},
   "outputs": [],
   "source": [
    "# using the entire feature set for fitting the model\n",
    "xgb_reg_best_estimator.fit(X, y_spend)\n",
    "\n",
    "prediction_reg = xgb_reg_best_estimator.predict(X)\n",
    "# in reality for this step, predict using new data that we want to use to make predictions"
   ]
  },
  {
   "cell_type": "markdown",
   "id": "23f2f2b5-00e3-4a22-ab06-058cc1a3fe01",
   "metadata": {},
   "source": [
    "### 4.2 Next 90 days spend probability\n",
    "This is a classification problem (spend or no spend) to predict if customers will spend in the next 90 days."
   ]
  },
  {
   "cell_type": "code",
   "execution_count": 40,
   "id": "fa75c2d1-378a-4340-92d7-e06b6c9d3374",
   "metadata": {},
   "outputs": [
    {
     "name": "stdout",
     "output_type": "stream",
     "text": [
      "Training time: 1.9652 seconds\n"
     ]
    }
   ],
   "source": [
    "# setting up the features and target variables\n",
    "# X is the same as above\n",
    "y_prob = features_df['spend_90_flag']\n",
    "\n",
    "# splittin to text and train set\n",
    "X_train, X_test, y_train, y_test = train_test_split(X, y_prob, test_size=0.2, random_state=1)\n",
    "\n",
    "# creating the estimator for hyperparameter tuning\n",
    "xgb_class_spec = XGBClassifier(objective=\"binary:logistic\", random_state=123)\n",
    "\n",
    "# creating the parameter grid for hyperparameter tuning\n",
    "param_grid = {'learning_rate': [0.01, 0.1, 0.3, 0.5]}\n",
    "\n",
    "# starting a timer\n",
    "start_time = time.time()\n",
    "\n",
    "# creating the classifier model\n",
    "xgb_clf_model = GridSearchCV(\n",
    "    xgb_class_spec, \n",
    "    param_grid,\n",
    "    scoring = 'roc_auc',\n",
    "    refit = True,\n",
    "    cv = 5\n",
    ")\n",
    "\n",
    "# fitting the model\n",
    "xgb_clf_model.fit(X_train, y_train)\n",
    "\n",
    "# stopping the timer\n",
    "end_time = time.time()\n",
    "train_time = end_time - start_time\n",
    "print('Training time: %.4f seconds' % train_time)"
   ]
  },
  {
   "cell_type": "code",
   "execution_count": 41,
   "id": "40d57844-9c75-4134-8bcd-e547984c21df",
   "metadata": {},
   "outputs": [
    {
     "name": "stdout",
     "output_type": "stream",
     "text": [
      "Best score:  0.8466939167453477\n",
      "Best paramaters:  {'learning_rate': 0.01}\n"
     ]
    }
   ],
   "source": [
    "# classification model's best score\n",
    "best_score = xgb_clf_model.best_score_\n",
    "\n",
    "# regressopm model's best params\n",
    "best_params = xgb_clf_model.best_params_\n",
    "\n",
    "# regression model's best estimators\n",
    "xgb_clf_best_estimator = xgb_clf_model.best_estimator_\n",
    "\n",
    "print('Best score: ', best_score)\n",
    "print('Best paramaters: ', best_params)\n",
    "# print('Best estimator(s): ', xgb_clf_estimator)"
   ]
  },
  {
   "cell_type": "markdown",
   "id": "eb76b616-2ab9-49f3-a562-9145fd1f5b3b",
   "metadata": {},
   "source": [
    "Best score of 0.847 is pretty good. Much better than random guessing. Basically 84% of the time we can predict if the person will be purchasing or not."
   ]
  },
  {
   "cell_type": "code",
   "execution_count": 42,
   "id": "9ee07c23-e502-4cac-854c-5d9b2f9a3ecc",
   "metadata": {},
   "outputs": [
    {
     "name": "stdout",
     "output_type": "stream",
     "text": [
      "Accuracy: 0.9416631310988545\n",
      "Precision: 0.8\n",
      "Recall: 0.028469750889679714\n",
      "F1 Score: 0.054982817869415807\n",
      "ROC AUC Score: 0.5140092945740977\n"
     ]
    }
   ],
   "source": [
    "# comparing y_train and y_test\n",
    "y_pred = xgb_clf_model.predict(X_test)\n",
    "\n",
    "# metrics\n",
    "accuracy = accuracy_score(y_test, y_pred)\n",
    "precision = precision_score(y_test, y_pred)\n",
    "recall = recall_score(y_test, y_pred)\n",
    "f1 = f1_score(y_test, y_pred)\n",
    "roc_auc = roc_auc_score(y_test, y_pred)\n",
    "conf_matrix = confusion_matrix(y_test, y_pred)\n",
    "# alternatively use sklearn-metrics classification_report\n",
    "\n",
    "# Printing Metrics\n",
    "print(\"Accuracy:\", accuracy)\n",
    "print(\"Precision:\", precision)\n",
    "print(\"Recall:\", recall)\n",
    "print(\"F1 Score:\", f1)\n",
    "print(\"ROC AUC Score:\", roc_auc)"
   ]
  },
  {
   "cell_type": "code",
   "execution_count": 43,
   "id": "129c26bb-9d6c-48a0-950d-2c1b561f052d",
   "metadata": {},
   "outputs": [
    {
     "name": "stdout",
     "output_type": "stream",
     "text": [
      "Confusion Matrix:\n",
      "[[4431    2]\n",
      " [ 273    8]]\n"
     ]
    }
   ],
   "source": [
    "print(\"Confusion Matrix:\")\n",
    "print(conf_matrix)"
   ]
  },
  {
   "cell_type": "markdown",
   "id": "42b586cf-17c4-4fbd-ba5a-0ad78310163b",
   "metadata": {},
   "source": [
    "Notice that the recall and F1 score are attrocious. An ROC AUC score of 0.51 suggests that this model is just basically just randomly guessing. \n",
    "\n",
    "Note for scikit-learns' confusion matrix:\n",
    "\n",
    "[TN FP]\n",
    "\n",
    "[FN TP]"
   ]
  },
  {
   "cell_type": "code",
   "execution_count": 44,
   "id": "4348bba7-69a6-4ca7-8cec-1a089f7b5bb5",
   "metadata": {},
   "outputs": [
    {
     "name": "stdout",
     "output_type": "stream",
     "text": [
      "False Positive Rate (FPR): 0.00045116174148432213\n",
      "True Negative Rate (TNR) or Specificity: 0.9995488382585157\n"
     ]
    }
   ],
   "source": [
    "# Calculate True Negatives\n",
    "tn = conf_matrix[0, 0]\n",
    "\n",
    "# Calculate False Positives\n",
    "fp = conf_matrix[0, 1]\n",
    "\n",
    "# Calculate False Positive Rate (FPR)\n",
    "fpr = fp / (fp + tn)\n",
    "\n",
    "# Calculate True Negative Rate (TNR) or Specificity\n",
    "tnr = tn / (tn + fp)\n",
    "\n",
    "# Printing FPR and TNR\n",
    "print(\"False Positive Rate (FPR):\", fpr)\n",
    "print(\"True Negative Rate (TNR) or Specificity:\", tnr)"
   ]
  },
  {
   "cell_type": "markdown",
   "id": "74649148-0939-4f9c-a908-a4d13f7d9311",
   "metadata": {},
   "source": [
    "Note that while the model does suck in guessing if a customer is true positive (will buy) or false negative (will not buy but predicted as will buy). False negative's correction is just that we offer some discounts or promotions to people who would've bought. It might cost a little money, but it's not as bad as false negatives (people who will not buy but guessed as leaving).\n",
    "\n",
    "In this regard, the model is reasonably accurate. The inaccuracy of this model comes from false negative. "
   ]
  },
  {
   "cell_type": "code",
   "execution_count": 45,
   "id": "2612f810-0075-4513-9142-86a8b38048ea",
   "metadata": {},
   "outputs": [],
   "source": [
    "# using the entire feature set for fitting the model\n",
    "xgb_clf_best_estimator.fit(X, y_prob)\n",
    "\n",
    "prediction_clf = xgb_clf_best_estimator.predict_proba(X)\n",
    "# in reality for this step, predict using new data that we want to use to make predictions"
   ]
  },
  {
   "cell_type": "markdown",
   "id": "45d037cd-11ca-4d9b-bd39-02500f95c0a5",
   "metadata": {},
   "source": [
    "### 4.3 Feature Importance\n",
    "Getting the values, and understanding how important each feature is."
   ]
  },
  {
   "cell_type": "markdown",
   "id": "fa32b872-eb61-4daa-a1b7-6f826737f468",
   "metadata": {},
   "source": [
    "#### Feature importance: regression model (spend amount)"
   ]
  },
  {
   "cell_type": "code",
   "execution_count": 46,
   "id": "a8fb7aae-1e9e-48ea-97b2-29e4a9e49e44",
   "metadata": {},
   "outputs": [
    {
     "name": "stdout",
     "output_type": "stream",
     "text": [
      "{'recency': 6130.9599609375, 'frequency': 31348.142578125, 'price_sum': 22889.95703125, 'price_mean': 7721.97021484375}\n"
     ]
    }
   ],
   "source": [
    "# gets a dict of features and their scores/weights\n",
    "imp_spend_amount_dict = xgb_reg_best_estimator\\\n",
    "    .get_booster()\\\n",
    "    .get_score(importance_type = 'gain')  # get booster() is needed for get_score()\n",
    "print(imp_spend_amount_dict)"
   ]
  },
  {
   "cell_type": "code",
   "execution_count": 47,
   "id": "e970877a-9aa6-4096-826b-cc1462f25732",
   "metadata": {},
   "outputs": [
    {
     "name": "stdout",
     "output_type": "stream",
     "text": [
      "      feature    importance\n",
      "1   frequency  31348.142578\n",
      "2   price_sum  22889.957031\n",
      "3  price_mean   7721.970215\n",
      "0     recency   6130.959961\n"
     ]
    }
   ],
   "source": [
    "# transforming into a df\n",
    "# Convert the dictionary to a pandas Series\n",
    "imp_spend_amount_series = pd.Series(imp_spend_amount_dict)\n",
    "\n",
    "# Create a DataFrame from the Series by resetting the index\n",
    "imp_spend_amount_df = imp_spend_amount_series.reset_index()\n",
    "\n",
    "# Rename the columns\n",
    "imp_spend_amount_df.columns = ['feature', 'importance']\n",
    "\n",
    "# Sort the DataFrame by importance in descending order\n",
    "imp_spend_amount_df = imp_spend_amount_df.sort_values('importance', ascending=False)\n",
    "\n",
    "# Print the DataFrame\n",
    "print(imp_spend_amount_df)"
   ]
  },
  {
   "cell_type": "code",
   "execution_count": 48,
   "id": "1e532f0b-a1dc-4c2f-a4e3-873416d0caee",
   "metadata": {},
   "outputs": [
    {
     "data": {
      "image/png": "[encoded data removed]",
      "text/plain": [
       "<Figure size 640x480 with 1 Axes>"
      ]
     },
     "metadata": {},
     "output_type": "display_data"
    }
   ],
   "source": [
    "# plotting this\n",
    "sns.barplot(x='importance', y='feature', data=imp_spend_amount_df, orient='h')\n",
    "\n",
    "# axis labels and title\n",
    "plt.xlabel('Importance Score')\n",
    "plt.ylabel('Feature')\n",
    "plt.title('Feature Importance')\n",
    "\n",
    "# rotate xticks\n",
    "plt.xticks(rotation=90)\n",
    "\n",
    "# plot\n",
    "plt.show()"
   ]
  },
  {
   "cell_type": "markdown",
   "id": "b98bb85d-22b5-448d-9d49-d18d5bae6ad1",
   "metadata": {},
   "source": [
    "The frequency of purchases of the customer is the most important feature, followed by their sum of purchase. Price mean and recency are both not as important. In fact by up to 3 times less important."
   ]
  },
  {
   "cell_type": "markdown",
   "id": "2f2c26da-1f8e-4bf3-9b7d-fccf146c17f6",
   "metadata": {},
   "source": [
    "#### Feature importance: classifier model (spend probability)"
   ]
  },
  {
   "cell_type": "code",
   "execution_count": 49,
   "id": "e6f9cf88-ea3c-4ba8-b804-f60ca02a8d8a",
   "metadata": {},
   "outputs": [
    {
     "name": "stdout",
     "output_type": "stream",
     "text": [
      "{'recency': 38.925113677978516, 'frequency': 45.240379333496094, 'price_sum': 2.6993753910064697, 'price_mean': 2.987555503845215}\n"
     ]
    }
   ],
   "source": [
    "# gets a dict of features and their scores/weights\n",
    "imp_spend_proba_dict = xgb_clf_best_estimator\\\n",
    "    .get_booster()\\\n",
    "    .get_score(importance_type = 'gain')  # get booster() is needed for get_score()\n",
    "print(imp_spend_proba_dict)"
   ]
  },
  {
   "cell_type": "code",
   "execution_count": 50,
   "id": "704849a7-dec8-4e98-9d3b-2870be2d545d",
   "metadata": {},
   "outputs": [
    {
     "name": "stdout",
     "output_type": "stream",
     "text": [
      "      feature  importance\n",
      "1   frequency   45.240379\n",
      "0     recency   38.925114\n",
      "3  price_mean    2.987556\n",
      "2   price_sum    2.699375\n"
     ]
    }
   ],
   "source": [
    "# transforming into a df\n",
    "# Convert the dictionary to a pandas Series\n",
    "imp_spend_proba_series = pd.Series(imp_spend_proba_dict)\n",
    "\n",
    "# Create a DataFrame from the Series by resetting the index\n",
    "imp_spend_proba_df = imp_spend_proba_series.reset_index()\n",
    "\n",
    "# Rename the columns\n",
    "imp_spend_proba_df.columns = ['feature', 'importance']\n",
    "\n",
    "# Sort the DataFrame by importance in descending order\n",
    "imp_spend_proba_df = imp_spend_proba_df.sort_values('importance', ascending=False)\n",
    "\n",
    "# Print the DataFrame\n",
    "print(imp_spend_proba_df)"
   ]
  },
  {
   "cell_type": "code",
   "execution_count": 51,
   "id": "fadfd528-3613-44c8-b945-35235467e6f4",
   "metadata": {},
   "outputs": [
    {
     "data": {
      "image/png": "[encoded data removed]",
      "text/plain": [
       "<Figure size 640x480 with 1 Axes>"
      ]
     },
     "metadata": {},
     "output_type": "display_data"
    }
   ],
   "source": [
    "# plotting this\n",
    "sns.barplot(x='importance', y='feature', data=imp_spend_proba_df, orient='h')\n",
    "\n",
    "# axis labels and title\n",
    "plt.xlabel('Importance Score')\n",
    "plt.ylabel('Feature')\n",
    "plt.title('Feature Importance')\n",
    "\n",
    "# rotate xticks\n",
    "plt.xticks(rotation=90)\n",
    "\n",
    "# plot\n",
    "plt.show()"
   ]
  },
  {
   "cell_type": "markdown",
   "id": "e44b94ae-13e6-4be9-bc66-f67214dc5f1f",
   "metadata": {},
   "source": [
    "For classifier, the frequency and recency are the most important features, whereas average purchase amount (price_mean) and sum are not as important. This checks out intuitively as well."
   ]
  },
  {
   "cell_type": "markdown",
   "id": "db24251c-db81-4623-a83d-f02facdda96d",
   "metadata": {},
   "source": [
    "## 5. Saving the output"
   ]
  },
  {
   "cell_type": "markdown",
   "id": "71ed129a-b31b-440d-ad00-51b764df9654",
   "metadata": {},
   "source": [
    "### 5.1 Saving the prediction output"
   ]
  },
  {
   "cell_type": "code",
   "execution_count": 52,
   "id": "d98705e8-43b2-42b6-81d9-3c1256b5dc25",
   "metadata": {},
   "outputs": [],
   "source": [
    "# importing pickle to export the models as pickle files\n",
    "import pickle"
   ]
  },
  {
   "cell_type": "code",
   "execution_count": 53,
   "id": "5fd9ab06-1f02-4ecd-aaaa-933e5949d952",
   "metadata": {},
   "outputs": [],
   "source": [
    "# transforming the predictions into df\n",
    "prediction_reg_df = pd.DataFrame(prediction_reg)\n",
    "prediction_clf_df = pd.DataFrame(prediction_clf)\n",
    "\n",
    "# renameing the columns\n",
    "prediction_reg_df.columns = ['pred_spend']\n",
    "prediction_clf_df.columns = ['pred_proba_no', 'pred_proba']\n",
    "\n",
    "# keeping only the \"will spend\" probability \n",
    "prediction_clf_df.drop('pred_proba_no', axis=1, inplace=True)"
   ]
  },
  {
   "cell_type": "code",
   "execution_count": 54,
   "id": "5e6b65b5-57f7-4a34-9b71-5b9dc95754b5",
   "metadata": {},
   "outputs": [],
   "source": [
    "# merging with df_features\n",
    "merge_df12 = features_df.merge(prediction_reg_df, left_index=True, right_index=True, how='outer')\n",
    "prediction_df = merge_df12.merge(prediction_clf_df, left_index=True, right_index=True, how='outer')"
   ]
  },
  {
   "cell_type": "code",
   "execution_count": 55,
   "id": "8612e80c-ed9f-402d-ab9c-190555144a60",
   "metadata": {
    "scrolled": true
   },
   "outputs": [
    {
     "data": {
      "text/html": [
       "<div>\n",
       "<style scoped>\n",
       "    .dataframe tbody tr th:only-of-type {\n",
       "        vertical-align: middle;\n",
       "    }\n",
       "\n",
       "    .dataframe tbody tr th {\n",
       "        vertical-align: top;\n",
       "    }\n",
       "\n",
       "    .dataframe thead th {\n",
       "        text-align: right;\n",
       "    }\n",
       "</style>\n",
       "<table border=\"1\" class=\"dataframe\">\n",
       "  <thead>\n",
       "    <tr style=\"text-align: right;\">\n",
       "      <th></th>\n",
       "      <th>customer_id</th>\n",
       "      <th>recency</th>\n",
       "      <th>frequency</th>\n",
       "      <th>price_sum</th>\n",
       "      <th>price_mean</th>\n",
       "      <th>spend_90_total</th>\n",
       "      <th>spend_90_flag</th>\n",
       "      <th>pred_spend</th>\n",
       "      <th>pred_proba</th>\n",
       "    </tr>\n",
       "  </thead>\n",
       "  <tbody>\n",
       "    <tr>\n",
       "      <th>0</th>\n",
       "      <td>1</td>\n",
       "      <td>-515</td>\n",
       "      <td>1</td>\n",
       "      <td>11.77</td>\n",
       "      <td>11.770000</td>\n",
       "      <td>0.00</td>\n",
       "      <td>0.0</td>\n",
       "      <td>0.250941</td>\n",
       "      <td>0.059640</td>\n",
       "    </tr>\n",
       "    <tr>\n",
       "      <th>1</th>\n",
       "      <td>2</td>\n",
       "      <td>-504</td>\n",
       "      <td>2</td>\n",
       "      <td>89.00</td>\n",
       "      <td>44.500000</td>\n",
       "      <td>0.00</td>\n",
       "      <td>0.0</td>\n",
       "      <td>1.154008</td>\n",
       "      <td>0.060735</td>\n",
       "    </tr>\n",
       "    <tr>\n",
       "      <th>2</th>\n",
       "      <td>3</td>\n",
       "      <td>-3</td>\n",
       "      <td>6</td>\n",
       "      <td>156.46</td>\n",
       "      <td>26.076667</td>\n",
       "      <td>0.00</td>\n",
       "      <td>0.0</td>\n",
       "      <td>11.007883</td>\n",
       "      <td>0.218114</td>\n",
       "    </tr>\n",
       "    <tr>\n",
       "      <th>3</th>\n",
       "      <td>4</td>\n",
       "      <td>-170</td>\n",
       "      <td>4</td>\n",
       "      <td>100.50</td>\n",
       "      <td>25.125000</td>\n",
       "      <td>0.00</td>\n",
       "      <td>0.0</td>\n",
       "      <td>2.693627</td>\n",
       "      <td>0.122450</td>\n",
       "    </tr>\n",
       "    <tr>\n",
       "      <th>4</th>\n",
       "      <td>5</td>\n",
       "      <td>-148</td>\n",
       "      <td>11</td>\n",
       "      <td>385.61</td>\n",
       "      <td>35.055455</td>\n",
       "      <td>0.00</td>\n",
       "      <td>0.0</td>\n",
       "      <td>7.936677</td>\n",
       "      <td>0.189782</td>\n",
       "    </tr>\n",
       "    <tr>\n",
       "      <th>5</th>\n",
       "      <td>6</td>\n",
       "      <td>-515</td>\n",
       "      <td>1</td>\n",
       "      <td>20.99</td>\n",
       "      <td>20.990000</td>\n",
       "      <td>0.00</td>\n",
       "      <td>0.0</td>\n",
       "      <td>0.291104</td>\n",
       "      <td>0.059640</td>\n",
       "    </tr>\n",
       "    <tr>\n",
       "      <th>6</th>\n",
       "      <td>7</td>\n",
       "      <td>-70</td>\n",
       "      <td>3</td>\n",
       "      <td>264.67</td>\n",
       "      <td>88.223333</td>\n",
       "      <td>0.00</td>\n",
       "      <td>0.0</td>\n",
       "      <td>2.782984</td>\n",
       "      <td>0.098380</td>\n",
       "    </tr>\n",
       "    <tr>\n",
       "      <th>7</th>\n",
       "      <td>8</td>\n",
       "      <td>-63</td>\n",
       "      <td>8</td>\n",
       "      <td>197.66</td>\n",
       "      <td>24.707500</td>\n",
       "      <td>0.00</td>\n",
       "      <td>0.0</td>\n",
       "      <td>9.517196</td>\n",
       "      <td>0.215574</td>\n",
       "    </tr>\n",
       "    <tr>\n",
       "      <th>8</th>\n",
       "      <td>9</td>\n",
       "      <td>-383</td>\n",
       "      <td>2</td>\n",
       "      <td>53.87</td>\n",
       "      <td>26.935000</td>\n",
       "      <td>41.98</td>\n",
       "      <td>1.0</td>\n",
       "      <td>1.286039</td>\n",
       "      <td>0.088527</td>\n",
       "    </tr>\n",
       "    <tr>\n",
       "      <th>9</th>\n",
       "      <td>10</td>\n",
       "      <td>-495</td>\n",
       "      <td>1</td>\n",
       "      <td>39.31</td>\n",
       "      <td>39.310000</td>\n",
       "      <td>0.00</td>\n",
       "      <td>0.0</td>\n",
       "      <td>0.340324</td>\n",
       "      <td>0.059640</td>\n",
       "    </tr>\n",
       "  </tbody>\n",
       "</table>\n",
       "</div>"
      ],
      "text/plain": [
       "   customer_id  recency  frequency  price_sum  price_mean  spend_90_total  \\\n",
       "0            1     -515          1      11.77   11.770000            0.00   \n",
       "1            2     -504          2      89.00   44.500000            0.00   \n",
       "2            3       -3          6     156.46   26.076667            0.00   \n",
       "3            4     -170          4     100.50   25.125000            0.00   \n",
       "4            5     -148         11     385.61   35.055455            0.00   \n",
       "5            6     -515          1      20.99   20.990000            0.00   \n",
       "6            7      -70          3     264.67   88.223333            0.00   \n",
       "7            8      -63          8     197.66   24.707500            0.00   \n",
       "8            9     -383          2      53.87   26.935000           41.98   \n",
       "9           10     -495          1      39.31   39.310000            0.00   \n",
       "\n",
       "  spend_90_flag  pred_spend  pred_proba  \n",
       "0           0.0    0.250941    0.059640  \n",
       "1           0.0    1.154008    0.060735  \n",
       "2           0.0   11.007883    0.218114  \n",
       "3           0.0    2.693627    0.122450  \n",
       "4           0.0    7.936677    0.189782  \n",
       "5           0.0    0.291104    0.059640  \n",
       "6           0.0    2.782984    0.098380  \n",
       "7           0.0    9.517196    0.215574  \n",
       "8           1.0    1.286039    0.088527  \n",
       "9           0.0    0.340324    0.059640  "
      ]
     },
     "execution_count": 55,
     "metadata": {},
     "output_type": "execute_result"
    }
   ],
   "source": [
    "prediction_df.head(10)"
   ]
  },
  {
   "cell_type": "code",
   "execution_count": 56,
   "id": "7f536a88-a11a-43a5-9a7a-c88ebec3bef8",
   "metadata": {},
   "outputs": [],
   "source": [
    "# exporting this as a csv\n",
    "prediction_df.to_csv('output/output.csv', index=False)"
   ]
  },
  {
   "cell_type": "code",
   "execution_count": 57,
   "id": "1b9e0f0b-0d6b-49eb-870a-845ccb13d1ec",
   "metadata": {},
   "outputs": [],
   "source": [
    "# saving the predictions as a pickle file\n",
    "prediction_df.to_pickle('artifacts/prediction_df.pkl')"
   ]
  },
  {
   "cell_type": "markdown",
   "id": "3e8bda9f-7195-4b78-bf2a-690f674eaa91",
   "metadata": {},
   "source": [
    "### 5.2 Saving the feature importance"
   ]
  },
  {
   "cell_type": "code",
   "execution_count": 58,
   "id": "76ffc3ae-e8f5-49f5-adb0-864dc2820cd8",
   "metadata": {},
   "outputs": [],
   "source": [
    "imp_spend_amount_df.to_pickle('artifacts/imp_spend_amount_df.pkl')\n",
    "imp_spend_proba_df.to_pickle('artifacts/imp_spend_proba_df.pkl')"
   ]
  },
  {
   "cell_type": "markdown",
   "id": "ee6817de-32e9-4f05-a8f1-fd1cba9a300d",
   "metadata": {},
   "source": [
    "### 5.3 Saving the models"
   ]
  },
  {
   "cell_type": "code",
   "execution_count": 59,
   "id": "50681af8-51e1-4679-8fdc-a8c0cf298569",
   "metadata": {},
   "outputs": [
    {
     "data": {
      "text/plain": [
       "['artifacts/xgb_clf_model.pkl']"
      ]
     },
     "execution_count": 59,
     "metadata": {},
     "output_type": "execute_result"
    }
   ],
   "source": [
    "joblib.dump(xgb_reg_model, 'artifacts/xgb_reg_model.pkl')\n",
    "joblib.dump(xgb_clf_model, 'artifacts/xgb_clf_model.pkl')"
   ]
  },
  {
   "cell_type": "markdown",
   "id": "dec823bd-4b85-4e6a-a7f2-8263587cb472",
   "metadata": {},
   "source": [
    "## 6. How to use this information?\n",
    "Made the models and made the predictions. Now to answer the business questions."
   ]
  },
  {
   "cell_type": "markdown",
   "id": "6145b156-c8f5-4d9e-b7f2-4231737d1fe3",
   "metadata": {},
   "source": [
    "### 6.1 Which customers have the highest probability to spend in the next 90 days?\n",
    "These customers can be targeted with similar products to keep them buying."
   ]
  },
  {
   "cell_type": "code",
   "execution_count": 62,
   "id": "9af0f10f-a9d4-409e-bdd4-a088d61d6ee4",
   "metadata": {},
   "outputs": [
    {
     "data": {
      "text/html": [
       "<div>\n",
       "<style scoped>\n",
       "    .dataframe tbody tr th:only-of-type {\n",
       "        vertical-align: middle;\n",
       "    }\n",
       "\n",
       "    .dataframe tbody tr th {\n",
       "        vertical-align: top;\n",
       "    }\n",
       "\n",
       "    .dataframe thead th {\n",
       "        text-align: right;\n",
       "    }\n",
       "</style>\n",
       "<table border=\"1\" class=\"dataframe\">\n",
       "  <thead>\n",
       "    <tr style=\"text-align: right;\">\n",
       "      <th></th>\n",
       "      <th>customer_id</th>\n",
       "      <th>recency</th>\n",
       "      <th>frequency</th>\n",
       "      <th>price_sum</th>\n",
       "      <th>price_mean</th>\n",
       "      <th>spend_90_total</th>\n",
       "      <th>spend_90_flag</th>\n",
       "      <th>pred_spend</th>\n",
       "      <th>pred_proba</th>\n",
       "    </tr>\n",
       "  </thead>\n",
       "  <tbody>\n",
       "    <tr>\n",
       "      <th>12859</th>\n",
       "      <td>12860</td>\n",
       "      <td>-12</td>\n",
       "      <td>38</td>\n",
       "      <td>1677.41</td>\n",
       "      <td>44.142368</td>\n",
       "      <td>168.93</td>\n",
       "      <td>1.0</td>\n",
       "      <td>132.754715</td>\n",
       "      <td>0.569114</td>\n",
       "    </tr>\n",
       "    <tr>\n",
       "      <th>14047</th>\n",
       "      <td>14048</td>\n",
       "      <td>-3</td>\n",
       "      <td>206</td>\n",
       "      <td>8441.60</td>\n",
       "      <td>40.978641</td>\n",
       "      <td>534.73</td>\n",
       "      <td>1.0</td>\n",
       "      <td>531.442871</td>\n",
       "      <td>0.560937</td>\n",
       "    </tr>\n",
       "    <tr>\n",
       "      <th>7982</th>\n",
       "      <td>7983</td>\n",
       "      <td>-4</td>\n",
       "      <td>134</td>\n",
       "      <td>6583.43</td>\n",
       "      <td>49.130075</td>\n",
       "      <td>389.64</td>\n",
       "      <td>1.0</td>\n",
       "      <td>379.413239</td>\n",
       "      <td>0.560937</td>\n",
       "    </tr>\n",
       "    <tr>\n",
       "      <th>3048</th>\n",
       "      <td>3049</td>\n",
       "      <td>-7</td>\n",
       "      <td>106</td>\n",
       "      <td>3943.08</td>\n",
       "      <td>37.198868</td>\n",
       "      <td>319.77</td>\n",
       "      <td>1.0</td>\n",
       "      <td>323.331085</td>\n",
       "      <td>0.560937</td>\n",
       "    </tr>\n",
       "    <tr>\n",
       "      <th>1076</th>\n",
       "      <td>1077</td>\n",
       "      <td>-4</td>\n",
       "      <td>48</td>\n",
       "      <td>3286.43</td>\n",
       "      <td>68.467292</td>\n",
       "      <td>38.06</td>\n",
       "      <td>1.0</td>\n",
       "      <td>48.152725</td>\n",
       "      <td>0.560937</td>\n",
       "    </tr>\n",
       "    <tr>\n",
       "      <th>...</th>\n",
       "      <td>...</td>\n",
       "      <td>...</td>\n",
       "      <td>...</td>\n",
       "      <td>...</td>\n",
       "      <td>...</td>\n",
       "      <td>...</td>\n",
       "      <td>...</td>\n",
       "      <td>...</td>\n",
       "      <td>...</td>\n",
       "    </tr>\n",
       "    <tr>\n",
       "      <th>10440</th>\n",
       "      <td>10441</td>\n",
       "      <td>-478</td>\n",
       "      <td>1</td>\n",
       "      <td>5.99</td>\n",
       "      <td>5.990000</td>\n",
       "      <td>0.00</td>\n",
       "      <td>0.0</td>\n",
       "      <td>0.250941</td>\n",
       "      <td>0.059640</td>\n",
       "    </tr>\n",
       "    <tr>\n",
       "      <th>10441</th>\n",
       "      <td>10442</td>\n",
       "      <td>-478</td>\n",
       "      <td>1</td>\n",
       "      <td>11.77</td>\n",
       "      <td>11.770000</td>\n",
       "      <td>0.00</td>\n",
       "      <td>0.0</td>\n",
       "      <td>0.250941</td>\n",
       "      <td>0.059640</td>\n",
       "    </tr>\n",
       "    <tr>\n",
       "      <th>10443</th>\n",
       "      <td>10444</td>\n",
       "      <td>-478</td>\n",
       "      <td>1</td>\n",
       "      <td>15.90</td>\n",
       "      <td>15.900000</td>\n",
       "      <td>0.00</td>\n",
       "      <td>0.0</td>\n",
       "      <td>0.250941</td>\n",
       "      <td>0.059640</td>\n",
       "    </tr>\n",
       "    <tr>\n",
       "      <th>10444</th>\n",
       "      <td>10445</td>\n",
       "      <td>-478</td>\n",
       "      <td>1</td>\n",
       "      <td>42.30</td>\n",
       "      <td>42.300000</td>\n",
       "      <td>0.00</td>\n",
       "      <td>0.0</td>\n",
       "      <td>0.317891</td>\n",
       "      <td>0.059640</td>\n",
       "    </tr>\n",
       "    <tr>\n",
       "      <th>11785</th>\n",
       "      <td>11786</td>\n",
       "      <td>-473</td>\n",
       "      <td>1</td>\n",
       "      <td>14.96</td>\n",
       "      <td>14.960000</td>\n",
       "      <td>0.00</td>\n",
       "      <td>0.0</td>\n",
       "      <td>0.250941</td>\n",
       "      <td>0.059640</td>\n",
       "    </tr>\n",
       "  </tbody>\n",
       "</table>\n",
       "<p>23570 rows × 9 columns</p>\n",
       "</div>"
      ],
      "text/plain": [
       "       customer_id  recency  frequency  price_sum  price_mean  spend_90_total  \\\n",
       "12859        12860      -12         38    1677.41   44.142368          168.93   \n",
       "14047        14048       -3        206    8441.60   40.978641          534.73   \n",
       "7982          7983       -4        134    6583.43   49.130075          389.64   \n",
       "3048          3049       -7        106    3943.08   37.198868          319.77   \n",
       "1076          1077       -4         48    3286.43   68.467292           38.06   \n",
       "...            ...      ...        ...        ...         ...             ...   \n",
       "10440        10441     -478          1       5.99    5.990000            0.00   \n",
       "10441        10442     -478          1      11.77   11.770000            0.00   \n",
       "10443        10444     -478          1      15.90   15.900000            0.00   \n",
       "10444        10445     -478          1      42.30   42.300000            0.00   \n",
       "11785        11786     -473          1      14.96   14.960000            0.00   \n",
       "\n",
       "      spend_90_flag  pred_spend  pred_proba  \n",
       "12859           1.0  132.754715    0.569114  \n",
       "14047           1.0  531.442871    0.560937  \n",
       "7982            1.0  379.413239    0.560937  \n",
       "3048            1.0  323.331085    0.560937  \n",
       "1076            1.0   48.152725    0.560937  \n",
       "...             ...         ...         ...  \n",
       "10440           0.0    0.250941    0.059640  \n",
       "10441           0.0    0.250941    0.059640  \n",
       "10443           0.0    0.250941    0.059640  \n",
       "10444           0.0    0.317891    0.059640  \n",
       "11785           0.0    0.250941    0.059640  \n",
       "\n",
       "[23570 rows x 9 columns]"
      ]
     },
     "execution_count": 62,
     "metadata": {},
     "output_type": "execute_result"
    }
   ],
   "source": [
    "prediction_df.sort_values('pred_proba', ascending=False)"
   ]
  },
  {
   "cell_type": "markdown",
   "id": "c3c9c043-f453-4a7b-8db1-e7526d6f4170",
   "metadata": {},
   "source": [
    "### 6.2 Which customers have recently purchased, but are unlikely to buy?\n",
    "Could try to introduce steps/discounts/promos to retain their interest.\n",
    "\n",
    "Possible actions:\n",
    "* Discounts\n",
    "* Friend referrals\n",
    "* News updates"
   ]
  },
  {
   "cell_type": "code",
   "execution_count": 63,
   "id": "8ce8ee92-a633-4711-8beb-5b0b6d59d6d4",
   "metadata": {},
   "outputs": [
    {
     "data": {
      "text/html": [
       "<div>\n",
       "<style scoped>\n",
       "    .dataframe tbody tr th:only-of-type {\n",
       "        vertical-align: middle;\n",
       "    }\n",
       "\n",
       "    .dataframe tbody tr th {\n",
       "        vertical-align: top;\n",
       "    }\n",
       "\n",
       "    .dataframe thead th {\n",
       "        text-align: right;\n",
       "    }\n",
       "</style>\n",
       "<table border=\"1\" class=\"dataframe\">\n",
       "  <thead>\n",
       "    <tr style=\"text-align: right;\">\n",
       "      <th></th>\n",
       "      <th>customer_id</th>\n",
       "      <th>recency</th>\n",
       "      <th>frequency</th>\n",
       "      <th>price_sum</th>\n",
       "      <th>price_mean</th>\n",
       "      <th>spend_90_total</th>\n",
       "      <th>spend_90_flag</th>\n",
       "      <th>pred_spend</th>\n",
       "      <th>pred_proba</th>\n",
       "    </tr>\n",
       "  </thead>\n",
       "  <tbody>\n",
       "    <tr>\n",
       "      <th>12666</th>\n",
       "      <td>12667</td>\n",
       "      <td>-78</td>\n",
       "      <td>7</td>\n",
       "      <td>210.11</td>\n",
       "      <td>30.015714</td>\n",
       "      <td>0.0</td>\n",
       "      <td>0.0</td>\n",
       "      <td>9.389457</td>\n",
       "      <td>0.199877</td>\n",
       "    </tr>\n",
       "    <tr>\n",
       "      <th>9148</th>\n",
       "      <td>9149</td>\n",
       "      <td>-78</td>\n",
       "      <td>7</td>\n",
       "      <td>188.45</td>\n",
       "      <td>26.921429</td>\n",
       "      <td>0.0</td>\n",
       "      <td>0.0</td>\n",
       "      <td>9.389457</td>\n",
       "      <td>0.199877</td>\n",
       "    </tr>\n",
       "    <tr>\n",
       "      <th>23438</th>\n",
       "      <td>23439</td>\n",
       "      <td>-82</td>\n",
       "      <td>7</td>\n",
       "      <td>271.49</td>\n",
       "      <td>38.784286</td>\n",
       "      <td>0.0</td>\n",
       "      <td>0.0</td>\n",
       "      <td>10.797000</td>\n",
       "      <td>0.199720</td>\n",
       "    </tr>\n",
       "    <tr>\n",
       "      <th>9742</th>\n",
       "      <td>9743</td>\n",
       "      <td>-7</td>\n",
       "      <td>5</td>\n",
       "      <td>383.47</td>\n",
       "      <td>76.694000</td>\n",
       "      <td>0.0</td>\n",
       "      <td>0.0</td>\n",
       "      <td>13.303111</td>\n",
       "      <td>0.199679</td>\n",
       "    </tr>\n",
       "    <tr>\n",
       "      <th>8053</th>\n",
       "      <td>8054</td>\n",
       "      <td>-42</td>\n",
       "      <td>9</td>\n",
       "      <td>171.03</td>\n",
       "      <td>19.003333</td>\n",
       "      <td>0.0</td>\n",
       "      <td>0.0</td>\n",
       "      <td>5.303968</td>\n",
       "      <td>0.199467</td>\n",
       "    </tr>\n",
       "  </tbody>\n",
       "</table>\n",
       "</div>"
      ],
      "text/plain": [
       "       customer_id  recency  frequency  price_sum  price_mean  spend_90_total  \\\n",
       "12666        12667      -78          7     210.11   30.015714             0.0   \n",
       "9148          9149      -78          7     188.45   26.921429             0.0   \n",
       "23438        23439      -82          7     271.49   38.784286             0.0   \n",
       "9742          9743       -7          5     383.47   76.694000             0.0   \n",
       "8053          8054      -42          9     171.03   19.003333             0.0   \n",
       "\n",
       "      spend_90_flag  pred_spend  pred_proba  \n",
       "12666           0.0    9.389457    0.199877  \n",
       "9148            0.0    9.389457    0.199877  \n",
       "23438           0.0   10.797000    0.199720  \n",
       "9742            0.0   13.303111    0.199679  \n",
       "8053            0.0    5.303968    0.199467  "
      ]
     },
     "execution_count": 63,
     "metadata": {},
     "output_type": "execute_result"
    }
   ],
   "source": [
    "unlikely_buy_df = prediction_df[(prediction_df['recency'] > -90) & (prediction_df['pred_proba'] < 0.20)]\n",
    "unlikely_buy_df_sorted = unlikely_buy_df.sort_values('pred_proba', ascending=False)\n",
    "\n",
    "unlikely_buy_df_sorted.head()"
   ]
  },
  {
   "cell_type": "markdown",
   "id": "145431f6-24c4-4b7e-89d0-c002d7c5e14f",
   "metadata": {},
   "source": [
    "### 6.3 Missed opportunities: Big spenders who were predicted to spend, but did not\n",
    "These are spenders who could be nudged to make repeat purchases with some offers/discounts."
   ]
  },
  {
   "cell_type": "code",
   "execution_count": 65,
   "id": "173a2fbf-0c66-4a82-85d8-7bbae841f773",
   "metadata": {},
   "outputs": [
    {
     "data": {
      "text/html": [
       "<div>\n",
       "<style scoped>\n",
       "    .dataframe tbody tr th:only-of-type {\n",
       "        vertical-align: middle;\n",
       "    }\n",
       "\n",
       "    .dataframe tbody tr th {\n",
       "        vertical-align: top;\n",
       "    }\n",
       "\n",
       "    .dataframe thead th {\n",
       "        text-align: right;\n",
       "    }\n",
       "</style>\n",
       "<table border=\"1\" class=\"dataframe\">\n",
       "  <thead>\n",
       "    <tr style=\"text-align: right;\">\n",
       "      <th></th>\n",
       "      <th>customer_id</th>\n",
       "      <th>recency</th>\n",
       "      <th>frequency</th>\n",
       "      <th>price_sum</th>\n",
       "      <th>price_mean</th>\n",
       "      <th>spend_90_total</th>\n",
       "      <th>spend_90_flag</th>\n",
       "      <th>pred_spend</th>\n",
       "      <th>pred_proba</th>\n",
       "    </tr>\n",
       "  </thead>\n",
       "  <tbody>\n",
       "    <tr>\n",
       "      <th>15623</th>\n",
       "      <td>15624</td>\n",
       "      <td>-151</td>\n",
       "      <td>10</td>\n",
       "      <td>519.40</td>\n",
       "      <td>51.940000</td>\n",
       "      <td>0.0</td>\n",
       "      <td>0.0</td>\n",
       "      <td>129.584015</td>\n",
       "      <td>0.247423</td>\n",
       "    </tr>\n",
       "    <tr>\n",
       "      <th>20399</th>\n",
       "      <td>20400</td>\n",
       "      <td>-19</td>\n",
       "      <td>10</td>\n",
       "      <td>521.01</td>\n",
       "      <td>52.101000</td>\n",
       "      <td>0.0</td>\n",
       "      <td>0.0</td>\n",
       "      <td>81.909134</td>\n",
       "      <td>0.265817</td>\n",
       "    </tr>\n",
       "    <tr>\n",
       "      <th>10822</th>\n",
       "      <td>10823</td>\n",
       "      <td>-71</td>\n",
       "      <td>12</td>\n",
       "      <td>618.15</td>\n",
       "      <td>51.512500</td>\n",
       "      <td>0.0</td>\n",
       "      <td>0.0</td>\n",
       "      <td>67.221176</td>\n",
       "      <td>0.351597</td>\n",
       "    </tr>\n",
       "    <tr>\n",
       "      <th>15378</th>\n",
       "      <td>15379</td>\n",
       "      <td>-83</td>\n",
       "      <td>4</td>\n",
       "      <td>485.95</td>\n",
       "      <td>121.487500</td>\n",
       "      <td>0.0</td>\n",
       "      <td>0.0</td>\n",
       "      <td>65.558678</td>\n",
       "      <td>0.100440</td>\n",
       "    </tr>\n",
       "    <tr>\n",
       "      <th>12844</th>\n",
       "      <td>12845</td>\n",
       "      <td>-53</td>\n",
       "      <td>14</td>\n",
       "      <td>719.92</td>\n",
       "      <td>51.422857</td>\n",
       "      <td>0.0</td>\n",
       "      <td>0.0</td>\n",
       "      <td>57.992054</td>\n",
       "      <td>0.351597</td>\n",
       "    </tr>\n",
       "  </tbody>\n",
       "</table>\n",
       "</div>"
      ],
      "text/plain": [
       "       customer_id  recency  frequency  price_sum  price_mean  spend_90_total  \\\n",
       "15623        15624     -151         10     519.40   51.940000             0.0   \n",
       "20399        20400      -19         10     521.01   52.101000             0.0   \n",
       "10822        10823      -71         12     618.15   51.512500             0.0   \n",
       "15378        15379      -83          4     485.95  121.487500             0.0   \n",
       "12844        12845      -53         14     719.92   51.422857             0.0   \n",
       "\n",
       "      spend_90_flag  pred_spend  pred_proba  \n",
       "15623           0.0  129.584015    0.247423  \n",
       "20399           0.0   81.909134    0.265817  \n",
       "10822           0.0   67.221176    0.351597  \n",
       "15378           0.0   65.558678    0.100440  \n",
       "12844           0.0   57.992054    0.351597  "
      ]
     },
     "execution_count": 65,
     "metadata": {},
     "output_type": "execute_result"
    }
   ],
   "source": [
    "missed_oppor_df = prediction_df[prediction_df['spend_90_flag'] == 0].sort_values(['pred_spend', 'pred_proba'], ascending=False)\n",
    "missed_oppor_df.head()"
   ]
  }
 ],
 "metadata": {
  "kernelspec": {
   "display_name": "Python 3 (ipykernel)",
   "language": "python",
   "name": "python3"
  },
  "language_info": {
   "codemirror_mode": {
    "name": "ipython",
    "version": 3
   },
   "file_extension": ".py",
   "mimetype": "text/x-python",
   "name": "python",
   "nbconvert_exporter": "python",
   "pygments_lexer": "ipython3",
   "version": "3.12.2"
  }
 },
 "nbformat": 4,
 "nbformat_minor": 5
}
